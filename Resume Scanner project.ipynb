{
 "cells": [
  {
   "cell_type": "code",
   "execution_count": 2,
   "id": "35709859",
   "metadata": {},
   "outputs": [
    {
     "name": "stdout",
     "output_type": "stream",
     "text": [
      "Requirement already satisfied: pyresparser in /home/anjali-dell/anaconda3/lib/python3.9/site-packages (1.0.6)\n",
      "Requirement already satisfied: docx2txt>=0.7 in /home/anjali-dell/anaconda3/lib/python3.9/site-packages (from pyresparser) (0.8)\n",
      "Requirement already satisfied: preshed>=2.0.1 in /home/anjali-dell/anaconda3/lib/python3.9/site-packages (from pyresparser) (3.0.8)\n",
      "Requirement already satisfied: numpy>=1.16.4 in /home/anjali-dell/anaconda3/lib/python3.9/site-packages (from pyresparser) (1.21.5)\n",
      "Requirement already satisfied: pandas>=0.24.2 in /home/anjali-dell/anaconda3/lib/python3.9/site-packages (from pyresparser) (1.4.4)\n",
      "Requirement already satisfied: pyrsistent>=0.15.2 in /home/anjali-dell/anaconda3/lib/python3.9/site-packages (from pyresparser) (0.18.0)\n",
      "Requirement already satisfied: blis>=0.2.4 in /home/anjali-dell/anaconda3/lib/python3.9/site-packages (from pyresparser) (0.4.1)\n",
      "Requirement already satisfied: requests>=2.22.0 in /home/anjali-dell/anaconda3/lib/python3.9/site-packages (from pyresparser) (2.28.1)\n",
      "Requirement already satisfied: thinc>=7.0.4 in /home/anjali-dell/anaconda3/lib/python3.9/site-packages (from pyresparser) (7.4.1)\n",
      "Requirement already satisfied: certifi>=2019.6.16 in /home/anjali-dell/anaconda3/lib/python3.9/site-packages (from pyresparser) (2022.9.14)\n",
      "Requirement already satisfied: six>=1.12.0 in /home/anjali-dell/anaconda3/lib/python3.9/site-packages (from pyresparser) (1.16.0)\n",
      "Requirement already satisfied: cymem>=2.0.2 in /home/anjali-dell/anaconda3/lib/python3.9/site-packages (from pyresparser) (2.0.7)\n",
      "Requirement already satisfied: spacy>=2.1.4 in /home/anjali-dell/anaconda3/lib/python3.9/site-packages (from pyresparser) (2.3.1)\n",
      "Requirement already satisfied: sortedcontainers>=2.1.0 in /home/anjali-dell/anaconda3/lib/python3.9/site-packages (from pyresparser) (2.4.0)\n",
      "Requirement already satisfied: tqdm>=4.32.2 in /home/anjali-dell/anaconda3/lib/python3.9/site-packages (from pyresparser) (4.64.1)\n",
      "Requirement already satisfied: urllib3>=1.25.3 in /home/anjali-dell/anaconda3/lib/python3.9/site-packages (from pyresparser) (1.26.11)\n",
      "Requirement already satisfied: pdfminer.six>=20181108 in /home/anjali-dell/anaconda3/lib/python3.9/site-packages (from pyresparser) (20221105)\n",
      "Requirement already satisfied: wasabi>=0.2.2 in /home/anjali-dell/anaconda3/lib/python3.9/site-packages (from pyresparser) (0.10.1)\n",
      "Requirement already satisfied: pycryptodome>=3.8.2 in /home/anjali-dell/anaconda3/lib/python3.9/site-packages (from pyresparser) (3.17)\n",
      "Requirement already satisfied: srsly>=0.0.7 in /home/anjali-dell/anaconda3/lib/python3.9/site-packages (from pyresparser) (1.0.6)\n",
      "Requirement already satisfied: attrs>=19.1.0 in /home/anjali-dell/anaconda3/lib/python3.9/site-packages (from pyresparser) (21.4.0)\n",
      "Requirement already satisfied: idna>=2.8 in /home/anjali-dell/anaconda3/lib/python3.9/site-packages (from pyresparser) (3.3)\n",
      "Requirement already satisfied: python-dateutil>=2.8.0 in /home/anjali-dell/anaconda3/lib/python3.9/site-packages (from pyresparser) (2.8.2)\n",
      "Requirement already satisfied: chardet>=3.0.4 in /home/anjali-dell/anaconda3/lib/python3.9/site-packages (from pyresparser) (4.0.0)\n",
      "Requirement already satisfied: jsonschema>=3.0.1 in /home/anjali-dell/anaconda3/lib/python3.9/site-packages (from pyresparser) (4.16.0)\n",
      "Requirement already satisfied: pytz>=2019.1 in /home/anjali-dell/anaconda3/lib/python3.9/site-packages (from pyresparser) (2022.1)\n",
      "Requirement already satisfied: nltk>=3.4.3 in /home/anjali-dell/anaconda3/lib/python3.9/site-packages (from pyresparser) (3.7)\n",
      "Requirement already satisfied: regex>=2021.8.3 in /home/anjali-dell/anaconda3/lib/python3.9/site-packages (from nltk>=3.4.3->pyresparser) (2022.7.9)\n",
      "Requirement already satisfied: joblib in /home/anjali-dell/anaconda3/lib/python3.9/site-packages (from nltk>=3.4.3->pyresparser) (1.1.0)\n",
      "Requirement already satisfied: click in /home/anjali-dell/anaconda3/lib/python3.9/site-packages (from nltk>=3.4.3->pyresparser) (8.0.4)\n",
      "Requirement already satisfied: cryptography>=36.0.0 in /home/anjali-dell/anaconda3/lib/python3.9/site-packages (from pdfminer.six>=20181108->pyresparser) (37.0.1)\n",
      "Requirement already satisfied: charset-normalizer>=2.0.0 in /home/anjali-dell/anaconda3/lib/python3.9/site-packages (from pdfminer.six>=20181108->pyresparser) (2.0.4)\n",
      "Requirement already satisfied: murmurhash<1.1.0,>=0.28.0 in /home/anjali-dell/anaconda3/lib/python3.9/site-packages (from preshed>=2.0.1->pyresparser) (1.0.9)\n",
      "Requirement already satisfied: catalogue<1.1.0,>=0.0.7 in /home/anjali-dell/anaconda3/lib/python3.9/site-packages (from spacy>=2.1.4->pyresparser) (1.0.2)\n",
      "Requirement already satisfied: setuptools in /home/anjali-dell/anaconda3/lib/python3.9/site-packages (from spacy>=2.1.4->pyresparser) (63.4.1)\n",
      "Requirement already satisfied: plac<1.2.0,>=0.9.6 in /home/anjali-dell/anaconda3/lib/python3.9/site-packages (from spacy>=2.1.4->pyresparser) (1.1.3)\n",
      "Requirement already satisfied: cffi>=1.12 in /home/anjali-dell/anaconda3/lib/python3.9/site-packages (from cryptography>=36.0.0->pdfminer.six>=20181108->pyresparser) (1.15.1)\n",
      "Requirement already satisfied: pycparser in /home/anjali-dell/anaconda3/lib/python3.9/site-packages (from cffi>=1.12->cryptography>=36.0.0->pdfminer.six>=20181108->pyresparser) (2.21)\n",
      "Note: you may need to restart the kernel to use updated packages.\n"
     ]
    }
   ],
   "source": [
    "pip install pyresparser\n"
   ]
  },
  {
   "cell_type": "code",
   "execution_count": 1,
   "id": "a22625a9",
   "metadata": {},
   "outputs": [
    {
     "name": "stdout",
     "output_type": "stream",
     "text": [
      "Requirement already satisfied: pyresparser in /home/anjali-dell/anaconda3/lib/python3.9/site-packages (1.0.6)\n",
      "Requirement already satisfied: cymem>=2.0.2 in /home/anjali-dell/anaconda3/lib/python3.9/site-packages (from pyresparser) (2.0.7)\n",
      "Requirement already satisfied: python-dateutil>=2.8.0 in /home/anjali-dell/anaconda3/lib/python3.9/site-packages (from pyresparser) (2.8.2)\n",
      "Requirement already satisfied: jsonschema>=3.0.1 in /home/anjali-dell/anaconda3/lib/python3.9/site-packages (from pyresparser) (4.16.0)\n",
      "Requirement already satisfied: chardet>=3.0.4 in /home/anjali-dell/anaconda3/lib/python3.9/site-packages (from pyresparser) (4.0.0)\n",
      "Requirement already satisfied: requests>=2.22.0 in /home/anjali-dell/anaconda3/lib/python3.9/site-packages (from pyresparser) (2.28.1)\n",
      "Requirement already satisfied: nltk>=3.4.3 in /home/anjali-dell/anaconda3/lib/python3.9/site-packages (from pyresparser) (3.7)\n",
      "Requirement already satisfied: urllib3>=1.25.3 in /home/anjali-dell/anaconda3/lib/python3.9/site-packages (from pyresparser) (1.26.11)\n",
      "Requirement already satisfied: spacy>=2.1.4 in /home/anjali-dell/anaconda3/lib/python3.9/site-packages (from pyresparser) (3.5.0)\n",
      "Requirement already satisfied: tqdm>=4.32.2 in /home/anjali-dell/anaconda3/lib/python3.9/site-packages (from pyresparser) (4.64.1)\n",
      "Requirement already satisfied: thinc>=7.0.4 in /home/anjali-dell/anaconda3/lib/python3.9/site-packages (from pyresparser) (8.1.7)\n",
      "Requirement already satisfied: pyrsistent>=0.15.2 in /home/anjali-dell/anaconda3/lib/python3.9/site-packages (from pyresparser) (0.18.0)\n",
      "Requirement already satisfied: sortedcontainers>=2.1.0 in /home/anjali-dell/anaconda3/lib/python3.9/site-packages (from pyresparser) (2.4.0)\n",
      "Requirement already satisfied: blis>=0.2.4 in /home/anjali-dell/anaconda3/lib/python3.9/site-packages (from pyresparser) (0.7.9)\n",
      "Requirement already satisfied: pandas>=0.24.2 in /home/anjali-dell/anaconda3/lib/python3.9/site-packages (from pyresparser) (1.4.4)\n",
      "Requirement already satisfied: numpy>=1.16.4 in /home/anjali-dell/anaconda3/lib/python3.9/site-packages (from pyresparser) (1.21.5)\n",
      "Requirement already satisfied: pdfminer.six>=20181108 in /home/anjali-dell/anaconda3/lib/python3.9/site-packages (from pyresparser) (20221105)\n",
      "Requirement already satisfied: six>=1.12.0 in /home/anjali-dell/anaconda3/lib/python3.9/site-packages (from pyresparser) (1.16.0)\n",
      "Requirement already satisfied: srsly>=0.0.7 in /home/anjali-dell/anaconda3/lib/python3.9/site-packages (from pyresparser) (2.4.5)\n",
      "Requirement already satisfied: pycryptodome>=3.8.2 in /home/anjali-dell/anaconda3/lib/python3.9/site-packages (from pyresparser) (3.17)\n",
      "Requirement already satisfied: docx2txt>=0.7 in /home/anjali-dell/anaconda3/lib/python3.9/site-packages (from pyresparser) (0.8)\n",
      "Requirement already satisfied: attrs>=19.1.0 in /home/anjali-dell/anaconda3/lib/python3.9/site-packages (from pyresparser) (21.4.0)\n",
      "Requirement already satisfied: certifi>=2019.6.16 in /home/anjali-dell/anaconda3/lib/python3.9/site-packages (from pyresparser) (2022.9.14)\n",
      "Requirement already satisfied: wasabi>=0.2.2 in /home/anjali-dell/anaconda3/lib/python3.9/site-packages (from pyresparser) (1.1.1)\n",
      "Requirement already satisfied: preshed>=2.0.1 in /home/anjali-dell/anaconda3/lib/python3.9/site-packages (from pyresparser) (3.0.8)\n",
      "Requirement already satisfied: idna>=2.8 in /home/anjali-dell/anaconda3/lib/python3.9/site-packages (from pyresparser) (3.3)\n",
      "Requirement already satisfied: pytz>=2019.1 in /home/anjali-dell/anaconda3/lib/python3.9/site-packages (from pyresparser) (2022.1)\n",
      "Requirement already satisfied: regex>=2021.8.3 in /home/anjali-dell/anaconda3/lib/python3.9/site-packages (from nltk>=3.4.3->pyresparser) (2022.7.9)\n",
      "Requirement already satisfied: joblib in /home/anjali-dell/anaconda3/lib/python3.9/site-packages (from nltk>=3.4.3->pyresparser) (1.1.0)\n",
      "Requirement already satisfied: click in /home/anjali-dell/anaconda3/lib/python3.9/site-packages (from nltk>=3.4.3->pyresparser) (8.0.4)\n",
      "Requirement already satisfied: cryptography>=36.0.0 in /home/anjali-dell/anaconda3/lib/python3.9/site-packages (from pdfminer.six>=20181108->pyresparser) (37.0.1)\n",
      "Requirement already satisfied: charset-normalizer>=2.0.0 in /home/anjali-dell/anaconda3/lib/python3.9/site-packages (from pdfminer.six>=20181108->pyresparser) (2.0.4)\n",
      "Requirement already satisfied: murmurhash<1.1.0,>=0.28.0 in /home/anjali-dell/anaconda3/lib/python3.9/site-packages (from preshed>=2.0.1->pyresparser) (1.0.9)\n",
      "Requirement already satisfied: langcodes<4.0.0,>=3.2.0 in /home/anjali-dell/anaconda3/lib/python3.9/site-packages (from spacy>=2.1.4->pyresparser) (3.3.0)\n",
      "Requirement already satisfied: jinja2 in /home/anjali-dell/anaconda3/lib/python3.9/site-packages (from spacy>=2.1.4->pyresparser) (2.11.3)\n",
      "Requirement already satisfied: pydantic!=1.8,!=1.8.1,<1.11.0,>=1.7.4 in /home/anjali-dell/anaconda3/lib/python3.9/site-packages (from spacy>=2.1.4->pyresparser) (1.10.4)\n",
      "Requirement already satisfied: catalogue<2.1.0,>=2.0.6 in /home/anjali-dell/anaconda3/lib/python3.9/site-packages (from spacy>=2.1.4->pyresparser) (2.0.8)\n",
      "Requirement already satisfied: spacy-loggers<2.0.0,>=1.0.0 in /home/anjali-dell/anaconda3/lib/python3.9/site-packages (from spacy>=2.1.4->pyresparser) (1.0.4)\n",
      "Requirement already satisfied: packaging>=20.0 in /home/anjali-dell/anaconda3/lib/python3.9/site-packages (from spacy>=2.1.4->pyresparser) (21.3)\n",
      "Requirement already satisfied: pathy>=0.10.0 in /home/anjali-dell/anaconda3/lib/python3.9/site-packages (from spacy>=2.1.4->pyresparser) (0.10.1)\n",
      "Requirement already satisfied: typer<0.8.0,>=0.3.0 in /home/anjali-dell/anaconda3/lib/python3.9/site-packages (from spacy>=2.1.4->pyresparser) (0.7.0)\n",
      "Requirement already satisfied: setuptools in /home/anjali-dell/anaconda3/lib/python3.9/site-packages (from spacy>=2.1.4->pyresparser) (63.4.1)\n",
      "Requirement already satisfied: smart-open<7.0.0,>=5.2.1 in /home/anjali-dell/anaconda3/lib/python3.9/site-packages (from spacy>=2.1.4->pyresparser) (5.2.1)\n",
      "Requirement already satisfied: spacy-legacy<3.1.0,>=3.0.11 in /home/anjali-dell/anaconda3/lib/python3.9/site-packages (from spacy>=2.1.4->pyresparser) (3.0.12)\n",
      "Requirement already satisfied: confection<1.0.0,>=0.0.1 in /home/anjali-dell/anaconda3/lib/python3.9/site-packages (from thinc>=7.0.4->pyresparser) (0.0.4)\n",
      "Requirement already satisfied: cffi>=1.12 in /home/anjali-dell/anaconda3/lib/python3.9/site-packages (from cryptography>=36.0.0->pdfminer.six>=20181108->pyresparser) (1.15.1)\n",
      "Requirement already satisfied: pyparsing!=3.0.5,>=2.0.2 in /home/anjali-dell/anaconda3/lib/python3.9/site-packages (from packaging>=20.0->spacy>=2.1.4->pyresparser) (3.0.9)\n",
      "Requirement already satisfied: typing-extensions>=4.2.0 in /home/anjali-dell/anaconda3/lib/python3.9/site-packages (from pydantic!=1.8,!=1.8.1,<1.11.0,>=1.7.4->spacy>=2.1.4->pyresparser) (4.3.0)\n",
      "Requirement already satisfied: MarkupSafe>=0.23 in /home/anjali-dell/anaconda3/lib/python3.9/site-packages (from jinja2->spacy>=2.1.4->pyresparser) (2.0.1)\n",
      "Requirement already satisfied: pycparser in /home/anjali-dell/anaconda3/lib/python3.9/site-packages (from cffi>=1.12->cryptography>=36.0.0->pdfminer.six>=20181108->pyresparser) (2.21)\n",
      "Note: you may need to restart the kernel to use updated packages.\n"
     ]
    }
   ],
   "source": [
    "pip install pyresparser\n"
   ]
  },
  {
   "cell_type": "code",
   "execution_count": 3,
   "id": "0dd0325b",
   "metadata": {},
   "outputs": [
    {
     "name": "stdout",
     "output_type": "stream",
     "text": [
      "Requirement already satisfied: spacy in /home/anjali-dell/anaconda3/lib/python3.9/site-packages (2.3.1)\n",
      "Requirement already satisfied: tqdm<5.0.0,>=4.38.0 in /home/anjali-dell/anaconda3/lib/python3.9/site-packages (from spacy) (4.64.1)\n",
      "Requirement already satisfied: requests<3.0.0,>=2.13.0 in /home/anjali-dell/anaconda3/lib/python3.9/site-packages (from spacy) (2.28.1)\n",
      "Requirement already satisfied: thinc==7.4.1 in /home/anjali-dell/anaconda3/lib/python3.9/site-packages (from spacy) (7.4.1)\n",
      "Requirement already satisfied: setuptools in /home/anjali-dell/anaconda3/lib/python3.9/site-packages (from spacy) (63.4.1)\n",
      "Requirement already satisfied: numpy>=1.15.0 in /home/anjali-dell/anaconda3/lib/python3.9/site-packages (from spacy) (1.21.5)\n",
      "Requirement already satisfied: cymem<2.1.0,>=2.0.2 in /home/anjali-dell/anaconda3/lib/python3.9/site-packages (from spacy) (2.0.7)\n",
      "Requirement already satisfied: wasabi<1.1.0,>=0.4.0 in /home/anjali-dell/anaconda3/lib/python3.9/site-packages (from spacy) (0.10.1)\n",
      "Requirement already satisfied: plac<1.2.0,>=0.9.6 in /home/anjali-dell/anaconda3/lib/python3.9/site-packages (from spacy) (1.1.3)\n",
      "Requirement already satisfied: preshed<3.1.0,>=3.0.2 in /home/anjali-dell/anaconda3/lib/python3.9/site-packages (from spacy) (3.0.8)\n",
      "Requirement already satisfied: blis<0.5.0,>=0.4.0 in /home/anjali-dell/anaconda3/lib/python3.9/site-packages (from spacy) (0.4.1)\n",
      "Requirement already satisfied: srsly<1.1.0,>=1.0.2 in /home/anjali-dell/anaconda3/lib/python3.9/site-packages (from spacy) (1.0.6)\n",
      "Requirement already satisfied: murmurhash<1.1.0,>=0.28.0 in /home/anjali-dell/anaconda3/lib/python3.9/site-packages (from spacy) (1.0.9)\n",
      "Requirement already satisfied: catalogue<1.1.0,>=0.0.7 in /home/anjali-dell/anaconda3/lib/python3.9/site-packages (from spacy) (1.0.2)\n",
      "Requirement already satisfied: certifi>=2017.4.17 in /home/anjali-dell/anaconda3/lib/python3.9/site-packages (from requests<3.0.0,>=2.13.0->spacy) (2022.9.14)\n",
      "Requirement already satisfied: idna<4,>=2.5 in /home/anjali-dell/anaconda3/lib/python3.9/site-packages (from requests<3.0.0,>=2.13.0->spacy) (3.3)\n",
      "Requirement already satisfied: charset-normalizer<3,>=2 in /home/anjali-dell/anaconda3/lib/python3.9/site-packages (from requests<3.0.0,>=2.13.0->spacy) (2.0.4)\n",
      "Requirement already satisfied: urllib3<1.27,>=1.21.1 in /home/anjali-dell/anaconda3/lib/python3.9/site-packages (from requests<3.0.0,>=2.13.0->spacy) (1.26.11)\n"
     ]
    }
   ],
   "source": [
    "!pip install spacy"
   ]
  },
  {
   "cell_type": "code",
   "execution_count": 4,
   "id": "eaf2301e",
   "metadata": {},
   "outputs": [
    {
     "name": "stdout",
     "output_type": "stream",
     "text": [
      "Collecting en_core_web_sm==2.3.1\n",
      "  Downloading https://github.com/explosion/spacy-models/releases/download/en_core_web_sm-2.3.1/en_core_web_sm-2.3.1.tar.gz (12.0 MB)\n",
      "\u001b[2K     \u001b[38;2;114;156;31m━━━━━━━━━━━━━━━━━━━━━━━━━━━━━━━━━━━━━━━━\u001b[0m \u001b[32m12.0/12.0 MB\u001b[0m \u001b[31m4.7 MB/s\u001b[0m eta \u001b[36m0:00:00\u001b[0mm eta \u001b[36m0:00:01\u001b[0m0:01\u001b[0m:01\u001b[0m\n",
      "\u001b[?25h  Preparing metadata (setup.py) ... \u001b[?25ldone\n",
      "\u001b[?25hRequirement already satisfied: spacy<2.4.0,>=2.3.0 in /home/anjali-dell/anaconda3/lib/python3.9/site-packages (from en_core_web_sm==2.3.1) (2.3.1)\n",
      "Requirement already satisfied: plac<1.2.0,>=0.9.6 in /home/anjali-dell/anaconda3/lib/python3.9/site-packages (from spacy<2.4.0,>=2.3.0->en_core_web_sm==2.3.1) (1.1.3)\n",
      "Requirement already satisfied: blis<0.5.0,>=0.4.0 in /home/anjali-dell/anaconda3/lib/python3.9/site-packages (from spacy<2.4.0,>=2.3.0->en_core_web_sm==2.3.1) (0.4.1)\n",
      "Requirement already satisfied: tqdm<5.0.0,>=4.38.0 in /home/anjali-dell/anaconda3/lib/python3.9/site-packages (from spacy<2.4.0,>=2.3.0->en_core_web_sm==2.3.1) (4.64.1)\n",
      "Requirement already satisfied: numpy>=1.15.0 in /home/anjali-dell/anaconda3/lib/python3.9/site-packages (from spacy<2.4.0,>=2.3.0->en_core_web_sm==2.3.1) (1.21.5)\n",
      "Requirement already satisfied: setuptools in /home/anjali-dell/anaconda3/lib/python3.9/site-packages (from spacy<2.4.0,>=2.3.0->en_core_web_sm==2.3.1) (63.4.1)\n",
      "Requirement already satisfied: murmurhash<1.1.0,>=0.28.0 in /home/anjali-dell/anaconda3/lib/python3.9/site-packages (from spacy<2.4.0,>=2.3.0->en_core_web_sm==2.3.1) (1.0.9)\n",
      "Requirement already satisfied: requests<3.0.0,>=2.13.0 in /home/anjali-dell/anaconda3/lib/python3.9/site-packages (from spacy<2.4.0,>=2.3.0->en_core_web_sm==2.3.1) (2.28.1)\n",
      "Requirement already satisfied: cymem<2.1.0,>=2.0.2 in /home/anjali-dell/anaconda3/lib/python3.9/site-packages (from spacy<2.4.0,>=2.3.0->en_core_web_sm==2.3.1) (2.0.7)\n",
      "Requirement already satisfied: srsly<1.1.0,>=1.0.2 in /home/anjali-dell/anaconda3/lib/python3.9/site-packages (from spacy<2.4.0,>=2.3.0->en_core_web_sm==2.3.1) (1.0.6)\n",
      "Requirement already satisfied: thinc==7.4.1 in /home/anjali-dell/anaconda3/lib/python3.9/site-packages (from spacy<2.4.0,>=2.3.0->en_core_web_sm==2.3.1) (7.4.1)\n",
      "Requirement already satisfied: preshed<3.1.0,>=3.0.2 in /home/anjali-dell/anaconda3/lib/python3.9/site-packages (from spacy<2.4.0,>=2.3.0->en_core_web_sm==2.3.1) (3.0.8)\n",
      "Requirement already satisfied: wasabi<1.1.0,>=0.4.0 in /home/anjali-dell/anaconda3/lib/python3.9/site-packages (from spacy<2.4.0,>=2.3.0->en_core_web_sm==2.3.1) (0.10.1)\n",
      "Requirement already satisfied: catalogue<1.1.0,>=0.0.7 in /home/anjali-dell/anaconda3/lib/python3.9/site-packages (from spacy<2.4.0,>=2.3.0->en_core_web_sm==2.3.1) (1.0.2)\n",
      "Requirement already satisfied: charset-normalizer<3,>=2 in /home/anjali-dell/anaconda3/lib/python3.9/site-packages (from requests<3.0.0,>=2.13.0->spacy<2.4.0,>=2.3.0->en_core_web_sm==2.3.1) (2.0.4)\n",
      "Requirement already satisfied: certifi>=2017.4.17 in /home/anjali-dell/anaconda3/lib/python3.9/site-packages (from requests<3.0.0,>=2.13.0->spacy<2.4.0,>=2.3.0->en_core_web_sm==2.3.1) (2022.9.14)\n",
      "Requirement already satisfied: urllib3<1.27,>=1.21.1 in /home/anjali-dell/anaconda3/lib/python3.9/site-packages (from requests<3.0.0,>=2.13.0->spacy<2.4.0,>=2.3.0->en_core_web_sm==2.3.1) (1.26.11)\n",
      "Requirement already satisfied: idna<4,>=2.5 in /home/anjali-dell/anaconda3/lib/python3.9/site-packages (from requests<3.0.0,>=2.13.0->spacy<2.4.0,>=2.3.0->en_core_web_sm==2.3.1) (3.3)\n",
      "\u001b[38;5;2m✔ Download and installation successful\u001b[0m\n",
      "You can now load the model via spacy.load('en_core_web_sm')\n"
     ]
    }
   ],
   "source": [
    "!python -m spacy download en_core_web_sm"
   ]
  },
  {
   "cell_type": "code",
   "execution_count": 5,
   "id": "405fda40",
   "metadata": {},
   "outputs": [
    {
     "ename": "AttributeError",
     "evalue": "'getset_descriptor' object has no attribute 'setdefault'",
     "output_type": "error",
     "traceback": [
      "\u001b[0;31m---------------------------------------------------------------------------\u001b[0m",
      "\u001b[0;31mAttributeError\u001b[0m                            Traceback (most recent call last)",
      "\u001b[0;32m/tmp/ipykernel_12521/1534154164.py\u001b[0m in \u001b[0;36m<module>\u001b[0;34m\u001b[0m\n\u001b[1;32m      1\u001b[0m \u001b[0;32mimport\u001b[0m \u001b[0mspacy\u001b[0m\u001b[0;34m\u001b[0m\u001b[0;34m\u001b[0m\u001b[0m\n\u001b[0;32m----> 2\u001b[0;31m \u001b[0mload_model\u001b[0m \u001b[0;34m=\u001b[0m \u001b[0mspacy\u001b[0m\u001b[0;34m.\u001b[0m\u001b[0mload\u001b[0m\u001b[0;34m(\u001b[0m\u001b[0;34m\"en_core_web_sm\"\u001b[0m\u001b[0;34m)\u001b[0m\u001b[0;34m\u001b[0m\u001b[0;34m\u001b[0m\u001b[0m\n\u001b[0m\u001b[1;32m      3\u001b[0m \u001b[0mdoc\u001b[0m \u001b[0;34m=\u001b[0m \u001b[0mload_model\u001b[0m\u001b[0;34m(\u001b[0m\u001b[0;34m\"Hi my name is mak\"\u001b[0m\u001b[0;34m)\u001b[0m\u001b[0;34m\u001b[0m\u001b[0;34m\u001b[0m\u001b[0m\n\u001b[1;32m      4\u001b[0m \u001b[0mdoc\u001b[0m\u001b[0;34m\u001b[0m\u001b[0;34m\u001b[0m\u001b[0m\n",
      "\u001b[0;32m~/anaconda3/lib/python3.9/site-packages/spacy/__init__.py\u001b[0m in \u001b[0;36mload\u001b[0;34m(name, **overrides)\u001b[0m\n\u001b[1;32m     28\u001b[0m     \u001b[0;32mif\u001b[0m \u001b[0mdepr_path\u001b[0m \u001b[0;32mnot\u001b[0m \u001b[0;32min\u001b[0m \u001b[0;34m(\u001b[0m\u001b[0;32mTrue\u001b[0m\u001b[0;34m,\u001b[0m \u001b[0;32mFalse\u001b[0m\u001b[0;34m,\u001b[0m \u001b[0;32mNone\u001b[0m\u001b[0;34m)\u001b[0m\u001b[0;34m:\u001b[0m\u001b[0;34m\u001b[0m\u001b[0;34m\u001b[0m\u001b[0m\n\u001b[1;32m     29\u001b[0m         \u001b[0mwarnings\u001b[0m\u001b[0;34m.\u001b[0m\u001b[0mwarn\u001b[0m\u001b[0;34m(\u001b[0m\u001b[0mWarnings\u001b[0m\u001b[0;34m.\u001b[0m\u001b[0mW001\u001b[0m\u001b[0;34m.\u001b[0m\u001b[0mformat\u001b[0m\u001b[0;34m(\u001b[0m\u001b[0mpath\u001b[0m\u001b[0;34m=\u001b[0m\u001b[0mdepr_path\u001b[0m\u001b[0;34m)\u001b[0m\u001b[0;34m,\u001b[0m \u001b[0mDeprecationWarning\u001b[0m\u001b[0;34m)\u001b[0m\u001b[0;34m\u001b[0m\u001b[0;34m\u001b[0m\u001b[0m\n\u001b[0;32m---> 30\u001b[0;31m     \u001b[0;32mreturn\u001b[0m \u001b[0mutil\u001b[0m\u001b[0;34m.\u001b[0m\u001b[0mload_model\u001b[0m\u001b[0;34m(\u001b[0m\u001b[0mname\u001b[0m\u001b[0;34m,\u001b[0m \u001b[0;34m**\u001b[0m\u001b[0moverrides\u001b[0m\u001b[0;34m)\u001b[0m\u001b[0;34m\u001b[0m\u001b[0;34m\u001b[0m\u001b[0m\n\u001b[0m\u001b[1;32m     31\u001b[0m \u001b[0;34m\u001b[0m\u001b[0m\n\u001b[1;32m     32\u001b[0m \u001b[0;34m\u001b[0m\u001b[0m\n",
      "\u001b[0;32m~/anaconda3/lib/python3.9/site-packages/spacy/util.py\u001b[0m in \u001b[0;36mload_model\u001b[0;34m(name, **overrides)\u001b[0m\n\u001b[1;32m    168\u001b[0m             \u001b[0;32mreturn\u001b[0m \u001b[0mload_model_from_link\u001b[0m\u001b[0;34m(\u001b[0m\u001b[0mname\u001b[0m\u001b[0;34m,\u001b[0m \u001b[0;34m**\u001b[0m\u001b[0moverrides\u001b[0m\u001b[0;34m)\u001b[0m\u001b[0;34m\u001b[0m\u001b[0;34m\u001b[0m\u001b[0m\n\u001b[1;32m    169\u001b[0m         \u001b[0;32mif\u001b[0m \u001b[0mis_package\u001b[0m\u001b[0;34m(\u001b[0m\u001b[0mname\u001b[0m\u001b[0;34m)\u001b[0m\u001b[0;34m:\u001b[0m  \u001b[0;31m# installed as package\u001b[0m\u001b[0;34m\u001b[0m\u001b[0;34m\u001b[0m\u001b[0m\n\u001b[0;32m--> 170\u001b[0;31m             \u001b[0;32mreturn\u001b[0m \u001b[0mload_model_from_package\u001b[0m\u001b[0;34m(\u001b[0m\u001b[0mname\u001b[0m\u001b[0;34m,\u001b[0m \u001b[0;34m**\u001b[0m\u001b[0moverrides\u001b[0m\u001b[0;34m)\u001b[0m\u001b[0;34m\u001b[0m\u001b[0;34m\u001b[0m\u001b[0m\n\u001b[0m\u001b[1;32m    171\u001b[0m         \u001b[0;32mif\u001b[0m \u001b[0mPath\u001b[0m\u001b[0;34m(\u001b[0m\u001b[0mname\u001b[0m\u001b[0;34m)\u001b[0m\u001b[0;34m.\u001b[0m\u001b[0mexists\u001b[0m\u001b[0;34m(\u001b[0m\u001b[0;34m)\u001b[0m\u001b[0;34m:\u001b[0m  \u001b[0;31m# path to model data directory\u001b[0m\u001b[0;34m\u001b[0m\u001b[0;34m\u001b[0m\u001b[0m\n\u001b[1;32m    172\u001b[0m             \u001b[0;32mreturn\u001b[0m \u001b[0mload_model_from_path\u001b[0m\u001b[0;34m(\u001b[0m\u001b[0mPath\u001b[0m\u001b[0;34m(\u001b[0m\u001b[0mname\u001b[0m\u001b[0;34m)\u001b[0m\u001b[0;34m,\u001b[0m \u001b[0;34m**\u001b[0m\u001b[0moverrides\u001b[0m\u001b[0;34m)\u001b[0m\u001b[0;34m\u001b[0m\u001b[0;34m\u001b[0m\u001b[0m\n",
      "\u001b[0;32m~/anaconda3/lib/python3.9/site-packages/spacy/util.py\u001b[0m in \u001b[0;36mload_model_from_package\u001b[0;34m(name, **overrides)\u001b[0m\n\u001b[1;32m    189\u001b[0m     \u001b[0;34m\"\"\"Load a model from an installed package.\"\"\"\u001b[0m\u001b[0;34m\u001b[0m\u001b[0;34m\u001b[0m\u001b[0m\n\u001b[1;32m    190\u001b[0m     \u001b[0mcls\u001b[0m \u001b[0;34m=\u001b[0m \u001b[0mimportlib\u001b[0m\u001b[0;34m.\u001b[0m\u001b[0mimport_module\u001b[0m\u001b[0;34m(\u001b[0m\u001b[0mname\u001b[0m\u001b[0;34m)\u001b[0m\u001b[0;34m\u001b[0m\u001b[0;34m\u001b[0m\u001b[0m\n\u001b[0;32m--> 191\u001b[0;31m     \u001b[0;32mreturn\u001b[0m \u001b[0mcls\u001b[0m\u001b[0;34m.\u001b[0m\u001b[0mload\u001b[0m\u001b[0;34m(\u001b[0m\u001b[0;34m**\u001b[0m\u001b[0moverrides\u001b[0m\u001b[0;34m)\u001b[0m\u001b[0;34m\u001b[0m\u001b[0;34m\u001b[0m\u001b[0m\n\u001b[0m\u001b[1;32m    192\u001b[0m \u001b[0;34m\u001b[0m\u001b[0m\n\u001b[1;32m    193\u001b[0m \u001b[0;34m\u001b[0m\u001b[0m\n",
      "\u001b[0;32m~/anaconda3/lib/python3.9/site-packages/en_core_web_sm/__init__.py\u001b[0m in \u001b[0;36mload\u001b[0;34m(**overrides)\u001b[0m\n\u001b[1;32m     10\u001b[0m \u001b[0;34m\u001b[0m\u001b[0m\n\u001b[1;32m     11\u001b[0m \u001b[0;32mdef\u001b[0m \u001b[0mload\u001b[0m\u001b[0;34m(\u001b[0m\u001b[0;34m**\u001b[0m\u001b[0moverrides\u001b[0m\u001b[0;34m)\u001b[0m\u001b[0;34m:\u001b[0m\u001b[0;34m\u001b[0m\u001b[0;34m\u001b[0m\u001b[0m\n\u001b[0;32m---> 12\u001b[0;31m     \u001b[0;32mreturn\u001b[0m \u001b[0mload_model_from_init_py\u001b[0m\u001b[0;34m(\u001b[0m\u001b[0m__file__\u001b[0m\u001b[0;34m,\u001b[0m \u001b[0;34m**\u001b[0m\u001b[0moverrides\u001b[0m\u001b[0;34m)\u001b[0m\u001b[0;34m\u001b[0m\u001b[0;34m\u001b[0m\u001b[0m\n\u001b[0m",
      "\u001b[0;32m~/anaconda3/lib/python3.9/site-packages/spacy/util.py\u001b[0m in \u001b[0;36mload_model_from_init_py\u001b[0;34m(init_file, **overrides)\u001b[0m\n\u001b[1;32m    237\u001b[0m     \u001b[0;32mif\u001b[0m \u001b[0;32mnot\u001b[0m \u001b[0mmodel_path\u001b[0m\u001b[0;34m.\u001b[0m\u001b[0mexists\u001b[0m\u001b[0;34m(\u001b[0m\u001b[0;34m)\u001b[0m\u001b[0;34m:\u001b[0m\u001b[0;34m\u001b[0m\u001b[0;34m\u001b[0m\u001b[0m\n\u001b[1;32m    238\u001b[0m         \u001b[0;32mraise\u001b[0m \u001b[0mIOError\u001b[0m\u001b[0;34m(\u001b[0m\u001b[0mErrors\u001b[0m\u001b[0;34m.\u001b[0m\u001b[0mE052\u001b[0m\u001b[0;34m.\u001b[0m\u001b[0mformat\u001b[0m\u001b[0;34m(\u001b[0m\u001b[0mpath\u001b[0m\u001b[0;34m=\u001b[0m\u001b[0mpath2str\u001b[0m\u001b[0;34m(\u001b[0m\u001b[0mdata_path\u001b[0m\u001b[0;34m)\u001b[0m\u001b[0;34m)\u001b[0m\u001b[0;34m)\u001b[0m\u001b[0;34m\u001b[0m\u001b[0;34m\u001b[0m\u001b[0m\n\u001b[0;32m--> 239\u001b[0;31m     \u001b[0;32mreturn\u001b[0m \u001b[0mload_model_from_path\u001b[0m\u001b[0;34m(\u001b[0m\u001b[0mdata_path\u001b[0m\u001b[0;34m,\u001b[0m \u001b[0mmeta\u001b[0m\u001b[0;34m,\u001b[0m \u001b[0;34m**\u001b[0m\u001b[0moverrides\u001b[0m\u001b[0;34m)\u001b[0m\u001b[0;34m\u001b[0m\u001b[0;34m\u001b[0m\u001b[0m\n\u001b[0m\u001b[1;32m    240\u001b[0m \u001b[0;34m\u001b[0m\u001b[0m\n\u001b[1;32m    241\u001b[0m \u001b[0;34m\u001b[0m\u001b[0m\n",
      "\u001b[0;32m~/anaconda3/lib/python3.9/site-packages/spacy/util.py\u001b[0m in \u001b[0;36mload_model_from_path\u001b[0;34m(model_path, meta, **overrides)\u001b[0m\n\u001b[1;32m    220\u001b[0m             \u001b[0mcomponent\u001b[0m \u001b[0;34m=\u001b[0m \u001b[0mnlp\u001b[0m\u001b[0;34m.\u001b[0m\u001b[0mcreate_pipe\u001b[0m\u001b[0;34m(\u001b[0m\u001b[0mfactory\u001b[0m\u001b[0;34m,\u001b[0m \u001b[0mconfig\u001b[0m\u001b[0;34m=\u001b[0m\u001b[0mconfig\u001b[0m\u001b[0;34m)\u001b[0m\u001b[0;34m\u001b[0m\u001b[0;34m\u001b[0m\u001b[0m\n\u001b[1;32m    221\u001b[0m             \u001b[0mnlp\u001b[0m\u001b[0;34m.\u001b[0m\u001b[0madd_pipe\u001b[0m\u001b[0;34m(\u001b[0m\u001b[0mcomponent\u001b[0m\u001b[0;34m,\u001b[0m \u001b[0mname\u001b[0m\u001b[0;34m=\u001b[0m\u001b[0mname\u001b[0m\u001b[0;34m)\u001b[0m\u001b[0;34m\u001b[0m\u001b[0;34m\u001b[0m\u001b[0m\n\u001b[0;32m--> 222\u001b[0;31m     \u001b[0;32mreturn\u001b[0m \u001b[0mnlp\u001b[0m\u001b[0;34m.\u001b[0m\u001b[0mfrom_disk\u001b[0m\u001b[0;34m(\u001b[0m\u001b[0mmodel_path\u001b[0m\u001b[0;34m,\u001b[0m \u001b[0mexclude\u001b[0m\u001b[0;34m=\u001b[0m\u001b[0mdisable\u001b[0m\u001b[0;34m)\u001b[0m\u001b[0;34m\u001b[0m\u001b[0;34m\u001b[0m\u001b[0m\n\u001b[0m\u001b[1;32m    223\u001b[0m \u001b[0;34m\u001b[0m\u001b[0m\n\u001b[1;32m    224\u001b[0m \u001b[0;34m\u001b[0m\u001b[0m\n",
      "\u001b[0;32m~/anaconda3/lib/python3.9/site-packages/spacy/language.py\u001b[0m in \u001b[0;36mfrom_disk\u001b[0;34m(self, path, exclude, disable)\u001b[0m\n\u001b[1;32m    972\u001b[0m             \u001b[0;31m# Convert to list here in case exclude is (default) tuple\u001b[0m\u001b[0;34m\u001b[0m\u001b[0;34m\u001b[0m\u001b[0m\n\u001b[1;32m    973\u001b[0m             \u001b[0mexclude\u001b[0m \u001b[0;34m=\u001b[0m \u001b[0mlist\u001b[0m\u001b[0;34m(\u001b[0m\u001b[0mexclude\u001b[0m\u001b[0;34m)\u001b[0m \u001b[0;34m+\u001b[0m \u001b[0;34m[\u001b[0m\u001b[0;34m\"vocab\"\u001b[0m\u001b[0;34m]\u001b[0m\u001b[0;34m\u001b[0m\u001b[0;34m\u001b[0m\u001b[0m\n\u001b[0;32m--> 974\u001b[0;31m         \u001b[0mutil\u001b[0m\u001b[0;34m.\u001b[0m\u001b[0mfrom_disk\u001b[0m\u001b[0;34m(\u001b[0m\u001b[0mpath\u001b[0m\u001b[0;34m,\u001b[0m \u001b[0mdeserializers\u001b[0m\u001b[0;34m,\u001b[0m \u001b[0mexclude\u001b[0m\u001b[0;34m)\u001b[0m\u001b[0;34m\u001b[0m\u001b[0;34m\u001b[0m\u001b[0m\n\u001b[0m\u001b[1;32m    975\u001b[0m         \u001b[0mself\u001b[0m\u001b[0;34m.\u001b[0m\u001b[0m_path\u001b[0m \u001b[0;34m=\u001b[0m \u001b[0mpath\u001b[0m\u001b[0;34m\u001b[0m\u001b[0;34m\u001b[0m\u001b[0m\n\u001b[1;32m    976\u001b[0m         \u001b[0;32mreturn\u001b[0m \u001b[0mself\u001b[0m\u001b[0;34m\u001b[0m\u001b[0;34m\u001b[0m\u001b[0m\n",
      "\u001b[0;32m~/anaconda3/lib/python3.9/site-packages/spacy/util.py\u001b[0m in \u001b[0;36mfrom_disk\u001b[0;34m(path, readers, exclude)\u001b[0m\n\u001b[1;32m    688\u001b[0m         \u001b[0;31m# Split to support file names like meta.json\u001b[0m\u001b[0;34m\u001b[0m\u001b[0;34m\u001b[0m\u001b[0m\n\u001b[1;32m    689\u001b[0m         \u001b[0;32mif\u001b[0m \u001b[0mkey\u001b[0m\u001b[0;34m.\u001b[0m\u001b[0msplit\u001b[0m\u001b[0;34m(\u001b[0m\u001b[0;34m\".\"\u001b[0m\u001b[0;34m)\u001b[0m\u001b[0;34m[\u001b[0m\u001b[0;36m0\u001b[0m\u001b[0;34m]\u001b[0m \u001b[0;32mnot\u001b[0m \u001b[0;32min\u001b[0m \u001b[0mexclude\u001b[0m\u001b[0;34m:\u001b[0m\u001b[0;34m\u001b[0m\u001b[0;34m\u001b[0m\u001b[0m\n\u001b[0;32m--> 690\u001b[0;31m             \u001b[0mreader\u001b[0m\u001b[0;34m(\u001b[0m\u001b[0mpath\u001b[0m \u001b[0;34m/\u001b[0m \u001b[0mkey\u001b[0m\u001b[0;34m)\u001b[0m\u001b[0;34m\u001b[0m\u001b[0;34m\u001b[0m\u001b[0m\n\u001b[0m\u001b[1;32m    691\u001b[0m     \u001b[0;32mreturn\u001b[0m \u001b[0mpath\u001b[0m\u001b[0;34m\u001b[0m\u001b[0;34m\u001b[0m\u001b[0m\n\u001b[1;32m    692\u001b[0m \u001b[0;34m\u001b[0m\u001b[0m\n",
      "\u001b[0;32m~/anaconda3/lib/python3.9/site-packages/spacy/language.py\u001b[0m in \u001b[0;36mdeserialize_vocab\u001b[0;34m(path)\u001b[0m\n\u001b[1;32m    949\u001b[0m             \u001b[0;32mif\u001b[0m \u001b[0mpath\u001b[0m\u001b[0;34m.\u001b[0m\u001b[0mexists\u001b[0m\u001b[0;34m(\u001b[0m\u001b[0;34m)\u001b[0m\u001b[0;34m:\u001b[0m\u001b[0;34m\u001b[0m\u001b[0;34m\u001b[0m\u001b[0m\n\u001b[1;32m    950\u001b[0m                 \u001b[0mself\u001b[0m\u001b[0;34m.\u001b[0m\u001b[0mvocab\u001b[0m\u001b[0;34m.\u001b[0m\u001b[0mfrom_disk\u001b[0m\u001b[0;34m(\u001b[0m\u001b[0mpath\u001b[0m\u001b[0;34m)\u001b[0m\u001b[0;34m\u001b[0m\u001b[0;34m\u001b[0m\u001b[0m\n\u001b[0;32m--> 951\u001b[0;31m             \u001b[0m_fix_pretrained_vectors_name\u001b[0m\u001b[0;34m(\u001b[0m\u001b[0mself\u001b[0m\u001b[0;34m)\u001b[0m\u001b[0;34m\u001b[0m\u001b[0;34m\u001b[0m\u001b[0m\n\u001b[0m\u001b[1;32m    952\u001b[0m \u001b[0;34m\u001b[0m\u001b[0m\n\u001b[1;32m    953\u001b[0m         \u001b[0;32mif\u001b[0m \u001b[0mdisable\u001b[0m \u001b[0;32mis\u001b[0m \u001b[0;32mnot\u001b[0m \u001b[0;32mNone\u001b[0m\u001b[0;34m:\u001b[0m\u001b[0;34m\u001b[0m\u001b[0;34m\u001b[0m\u001b[0m\n",
      "\u001b[0;32m~/anaconda3/lib/python3.9/site-packages/spacy/language.py\u001b[0m in \u001b[0;36m_fix_pretrained_vectors_name\u001b[0;34m(nlp)\u001b[0m\n\u001b[1;32m   1107\u001b[0m         \u001b[0;32mif\u001b[0m \u001b[0;32mnot\u001b[0m \u001b[0mhasattr\u001b[0m\u001b[0;34m(\u001b[0m\u001b[0mproc\u001b[0m\u001b[0;34m,\u001b[0m \u001b[0;34m\"cfg\"\u001b[0m\u001b[0;34m)\u001b[0m\u001b[0;34m:\u001b[0m\u001b[0;34m\u001b[0m\u001b[0;34m\u001b[0m\u001b[0m\n\u001b[1;32m   1108\u001b[0m             \u001b[0;32mcontinue\u001b[0m\u001b[0;34m\u001b[0m\u001b[0;34m\u001b[0m\u001b[0m\n\u001b[0;32m-> 1109\u001b[0;31m         \u001b[0mproc\u001b[0m\u001b[0;34m.\u001b[0m\u001b[0mcfg\u001b[0m\u001b[0;34m.\u001b[0m\u001b[0msetdefault\u001b[0m\u001b[0;34m(\u001b[0m\u001b[0;34m\"deprecation_fixes\"\u001b[0m\u001b[0;34m,\u001b[0m \u001b[0;34m{\u001b[0m\u001b[0;34m}\u001b[0m\u001b[0;34m)\u001b[0m\u001b[0;34m\u001b[0m\u001b[0;34m\u001b[0m\u001b[0m\n\u001b[0m\u001b[1;32m   1110\u001b[0m         \u001b[0mproc\u001b[0m\u001b[0;34m.\u001b[0m\u001b[0mcfg\u001b[0m\u001b[0;34m[\u001b[0m\u001b[0;34m\"deprecation_fixes\"\u001b[0m\u001b[0;34m]\u001b[0m\u001b[0;34m[\u001b[0m\u001b[0;34m\"vectors_name\"\u001b[0m\u001b[0;34m]\u001b[0m \u001b[0;34m=\u001b[0m \u001b[0mnlp\u001b[0m\u001b[0;34m.\u001b[0m\u001b[0mvocab\u001b[0m\u001b[0;34m.\u001b[0m\u001b[0mvectors\u001b[0m\u001b[0;34m.\u001b[0m\u001b[0mname\u001b[0m\u001b[0;34m\u001b[0m\u001b[0;34m\u001b[0m\u001b[0m\n\u001b[1;32m   1111\u001b[0m \u001b[0;34m\u001b[0m\u001b[0m\n",
      "\u001b[0;31mAttributeError\u001b[0m: 'getset_descriptor' object has no attribute 'setdefault'"
     ]
    }
   ],
   "source": [
    "import spacy\n",
    "load_model = spacy.load(\"en_core_web_sm\")\n",
    "doc = load_model(\"Hi my name is mak\")\n",
    "doc"
   ]
  },
  {
   "cell_type": "code",
   "execution_count": 8,
   "id": "5505b8b4",
   "metadata": {},
   "outputs": [],
   "source": [
    "import os\n"
   ]
  },
  {
   "cell_type": "code",
   "execution_count": 9,
   "id": "cfe1046f",
   "metadata": {},
   "outputs": [],
   "source": [
    "from nltk.corpus import stopwords"
   ]
  },
  {
   "cell_type": "code",
   "execution_count": 10,
   "id": "95ddbd25",
   "metadata": {},
   "outputs": [
    {
     "ename": "ModuleNotFoundError",
     "evalue": "No module named 'ftfy'",
     "output_type": "error",
     "traceback": [
      "\u001b[0;31m---------------------------------------------------------------------------\u001b[0m",
      "\u001b[0;31mModuleNotFoundError\u001b[0m                       Traceback (most recent call last)",
      "\u001b[0;32m/tmp/ipykernel_5943/2815256616.py\u001b[0m in \u001b[0;36m<module>\u001b[0;34m\u001b[0m\n\u001b[0;32m----> 1\u001b[0;31m \u001b[0;32mfrom\u001b[0m \u001b[0mftfy\u001b[0m \u001b[0;32mimport\u001b[0m \u001b[0mfix_text\u001b[0m\u001b[0;34m\u001b[0m\u001b[0;34m\u001b[0m\u001b[0m\n\u001b[0m",
      "\u001b[0;31mModuleNotFoundError\u001b[0m: No module named 'ftfy'"
     ]
    }
   ],
   "source": [
    "from ftfy import fix_text"
   ]
  },
  {
   "cell_type": "code",
   "execution_count": 11,
   "id": "2c866cfe",
   "metadata": {},
   "outputs": [
    {
     "name": "stdout",
     "output_type": "stream",
     "text": [
      "Collecting ftfy\n",
      "  Downloading ftfy-6.1.1-py3-none-any.whl (53 kB)\n",
      "\u001b[2K     \u001b[38;2;114;156;31m━━━━━━━━━━━━━━━━━━━━━━━━━━━━━━━━━━━━━━━\u001b[0m \u001b[32m53.1/53.1 kB\u001b[0m \u001b[31m849.1 kB/s\u001b[0m eta \u001b[36m0:00:00\u001b[0m31m1.2 MB/s\u001b[0m eta \u001b[36m0:00:01\u001b[0m\n",
      "\u001b[?25hRequirement already satisfied: wcwidth>=0.2.5 in /home/anjali-dell/anaconda3/lib/python3.9/site-packages (from ftfy) (0.2.5)\n",
      "Installing collected packages: ftfy\n",
      "Successfully installed ftfy-6.1.1\n",
      "Note: you may need to restart the kernel to use updated packages.\n"
     ]
    }
   ],
   "source": [
    "pip install ftfy"
   ]
  },
  {
   "cell_type": "code",
   "execution_count": 12,
   "id": "21de3534",
   "metadata": {},
   "outputs": [],
   "source": [
    "from ftfy import fix_text"
   ]
  },
  {
   "cell_type": "code",
   "execution_count": 13,
   "id": "72e7c6ea",
   "metadata": {},
   "outputs": [],
   "source": [
    "import re\n"
   ]
  },
  {
   "cell_type": "code",
   "execution_count": 14,
   "id": "531dbfbb",
   "metadata": {},
   "outputs": [],
   "source": [
    "from sklearn.feature_extraction.text import TfidfVectorizer"
   ]
  },
  {
   "cell_type": "code",
   "execution_count": 15,
   "id": "ab689e13",
   "metadata": {},
   "outputs": [],
   "source": [
    "from tqdm import tqdm"
   ]
  },
  {
   "cell_type": "code",
   "execution_count": 19,
   "id": "9e8c72dc",
   "metadata": {},
   "outputs": [],
   "source": [
    "\n",
    "\n",
    "import pandas as pd\n",
    "from tqdm import tqdm\n",
    "from time import sleep\n",
    "from selenium import webdriver\n",
    "from selenium.webdriver.common.by import By\n",
    "from selenium.webdriver.support.ui import WebDriverWait\n",
    "from selenium.webdriver.support import expected_conditions as EC\n",
    "from selenium.common.exceptions import TimeoutException\n",
    "import time\n",
    "import json\n",
    "from bs4 import BeautifulSoup\n",
    "from selenium.common.exceptions import ElementClickInterceptedException\n",
    "from selenium.common.exceptions import NoSuchElementException\n",
    "\n"
   ]
  },
  {
   "cell_type": "code",
   "execution_count": 18,
   "id": "0b421f60",
   "metadata": {},
   "outputs": [
    {
     "name": "stdout",
     "output_type": "stream",
     "text": [
      "Collecting selenium\n",
      "  Downloading selenium-4.8.0-py3-none-any.whl (6.3 MB)\n",
      "\u001b[2K     \u001b[38;2;114;156;31m━━━━━━━━━━━━━━━━━━━━━━━━━━━━━━━━━━━━━━━━\u001b[0m \u001b[32m6.3/6.3 MB\u001b[0m \u001b[31m4.8 MB/s\u001b[0m eta \u001b[36m0:00:00\u001b[0mm eta \u001b[36m0:00:01\u001b[0m0:01\u001b[0m:01\u001b[0m\n",
      "\u001b[?25hCollecting trio~=0.17\n",
      "  Downloading trio-0.22.0-py3-none-any.whl (384 kB)\n",
      "\u001b[2K     \u001b[38;2;114;156;31m━━━━━━━━━━━━━━━━━━━━━━━━━━━━━━━━━━━━━━━\u001b[0m \u001b[32m384.9/384.9 kB\u001b[0m \u001b[31m5.1 MB/s\u001b[0m eta \u001b[36m0:00:00\u001b[0m[31m7.1 MB/s\u001b[0m eta \u001b[36m0:00:01\u001b[0m\n",
      "\u001b[?25hRequirement already satisfied: urllib3[socks]~=1.26 in /home/anjali-dell/anaconda3/lib/python3.9/site-packages (from selenium) (1.26.11)\n",
      "Collecting trio-websocket~=0.9\n",
      "  Downloading trio_websocket-0.9.2-py3-none-any.whl (16 kB)\n",
      "Requirement already satisfied: certifi>=2021.10.8 in /home/anjali-dell/anaconda3/lib/python3.9/site-packages (from selenium) (2022.9.14)\n",
      "Requirement already satisfied: sniffio in /home/anjali-dell/anaconda3/lib/python3.9/site-packages (from trio~=0.17->selenium) (1.2.0)\n",
      "Collecting outcome\n",
      "  Downloading outcome-1.2.0-py2.py3-none-any.whl (9.7 kB)\n",
      "Requirement already satisfied: sortedcontainers in /home/anjali-dell/anaconda3/lib/python3.9/site-packages (from trio~=0.17->selenium) (2.4.0)\n",
      "Collecting async-generator>=1.9\n",
      "  Downloading async_generator-1.10-py3-none-any.whl (18 kB)\n",
      "Requirement already satisfied: attrs>=19.2.0 in /home/anjali-dell/anaconda3/lib/python3.9/site-packages (from trio~=0.17->selenium) (21.4.0)\n",
      "Collecting exceptiongroup>=1.0.0rc9\n",
      "  Downloading exceptiongroup-1.1.0-py3-none-any.whl (14 kB)\n",
      "Requirement already satisfied: idna in /home/anjali-dell/anaconda3/lib/python3.9/site-packages (from trio~=0.17->selenium) (3.3)\n",
      "Collecting wsproto>=0.14\n",
      "  Downloading wsproto-1.2.0-py3-none-any.whl (24 kB)\n",
      "Requirement already satisfied: PySocks!=1.5.7,<2.0,>=1.5.6 in /home/anjali-dell/anaconda3/lib/python3.9/site-packages (from urllib3[socks]~=1.26->selenium) (1.7.1)\n",
      "Collecting h11<1,>=0.9.0\n",
      "  Downloading h11-0.14.0-py3-none-any.whl (58 kB)\n",
      "\u001b[2K     \u001b[38;2;114;156;31m━━━━━━━━━━━━━━━━━━━━━━━━━━━━━━━━━━━━━━━━\u001b[0m \u001b[32m58.3/58.3 kB\u001b[0m \u001b[31m5.5 MB/s\u001b[0m eta \u001b[36m0:00:00\u001b[0m\n",
      "\u001b[?25hInstalling collected packages: outcome, h11, exceptiongroup, async-generator, wsproto, trio, trio-websocket, selenium\n",
      "Successfully installed async-generator-1.10 exceptiongroup-1.1.0 h11-0.14.0 outcome-1.2.0 selenium-4.8.0 trio-0.22.0 trio-websocket-0.9.2 wsproto-1.2.0\n"
     ]
    }
   ],
   "source": [
    "!pip install selenium"
   ]
  },
  {
   "cell_type": "code",
   "execution_count": 20,
   "id": "2f6fe114",
   "metadata": {},
   "outputs": [],
   "source": [
    "\n",
    "import pandas as pd\n",
    "from tqdm import tqdm\n",
    "from time import sleep\n",
    "from selenium import webdriver\n",
    "from selenium.webdriver.common.by import By\n",
    "from selenium.webdriver.support.ui import WebDriverWait\n",
    "from selenium.webdriver.support import expected_conditions as EC\n",
    "from selenium.common.exceptions import TimeoutException\n",
    "import time\n",
    "import json\n",
    "from bs4 import BeautifulSoup\n",
    "from selenium.common.exceptions import ElementClickInterceptedException\n",
    "from selenium.common.exceptions import NoSuchElementException\n",
    "\n"
   ]
  },
  {
   "cell_type": "code",
   "execution_count": 21,
   "id": "ac90c0ac",
   "metadata": {},
   "outputs": [],
   "source": [
    "from bs4 import BeautifulSoup\n",
    "import json\n",
    "import urllib\n",
    "import pandas as pd\n",
    "from selenium import webdriver\n",
    "from selenium.webdriver.common.by import By\n",
    "from selenium.webdriver.support.ui import WebDriverWait\n",
    "from selenium.webdriver.support import expected_conditions as EC\n",
    "from selenium.common.exceptions import TimeoutException\n",
    "import time\n",
    "from selenium.common.exceptions import NoSuchElementException\n"
   ]
  },
  {
   "cell_type": "code",
   "execution_count": 1,
   "id": "fa6e68fb",
   "metadata": {},
   "outputs": [
    {
     "ename": "SyntaxError",
     "evalue": "EOL while scanning string literal (3393978009.py, line 11)",
     "output_type": "error",
     "traceback": [
      "\u001b[0;36m  File \u001b[0;32m\"/tmp/ipykernel_12521/3393978009.py\"\u001b[0;36m, line \u001b[0;32m11\u001b[0m\n\u001b[0;31m    driver.get(\"https://www.glassdoor.co.in/Job/jobs.htm?suggestCount=0&suggestChosen=true&clickSource=searchBtn&typedKeyword={}\u001b[0m\n\u001b[0m                                                                                                                                ^\u001b[0m\n\u001b[0;31mSyntaxError\u001b[0m\u001b[0;31m:\u001b[0m EOL while scanning string literal\n"
     ]
    }
   ],
   "source": [
    "driver = webdriver.Firefox(executable_path=r'C:\\geckodriver.exe')\n",
    "\n",
    "def openbrowser(locid, key):\n",
    "    driver.wait = WebDriverWait(driver, 5)\n",
    "    driver.maximize_window()\n",
    "    words = key.split()\n",
    "    txt =''    \n",
    "    for w in words:\n",
    "        txt +=(w+'+')\n",
    "    #print (txt)\n",
    "    driver.get(\"https://www.glassdoor.co.in/Job/jobs.htm?suggestCount=0&suggestChosen=true&clickSource=searchBtn&typedKeyword={}\n",
    "               &sc.keyword={}&locT=C&locId={}&jobType=fulltime&fromAge=1&radius=6&cityId=-1&minRating=0.0&industryId=-1\n",
    "               &sgocId=-1&companyId=-1&employerSizes=0&applicationType=0&remoteWorkType=0\".format(txt[:-1],txt[:-1], locid))\n",
    "    return driver\n",
    "\n",
    "def geturl(driver):\n",
    "    url = set()\n",
    "    while True:\n",
    "        print(len(url))\n",
    "        if len(url)>=20:\n",
    "            break\n",
    "        soup1 = BeautifulSoup(driver.page_source, \"lxml\")\n",
    "        \n",
    "        main = soup1.find_all(\"li\",{\"class\":\"jl\"})\n",
    "        \n",
    "        for m in main:\n",
    "            url.add('https://www.glassdoor.co.in{}'.format(m.find('a')['href']))       \n",
    "        try:\n",
    "            next_element = soup1.find(\"li\", {\"class\": \"next\"})\n",
    "            try:\n",
    "                next_exist = next_element.find('a')\n",
    "            except AttributeError:\n",
    "                driver.quit()\n",
    "                break\n",
    "            except NoSuchElementException:\n",
    "                driver.quit()\n",
    "                break\n",
    "            if next_exist:\n",
    "    \n",
    "                driver.find_element_by_class_name(\"next\").click()\n",
    "                time.sleep(2)\n",
    "            else:\n",
    "                driver.quit()\n",
    "                break\n",
    "        except ElementClickInterceptedException:\n",
    "            pass\n",
    "        \n",
    "    return list(url)\n",
    "\n",
    "x =openbrowser(locid =4477468, key='\"software testing\"')\n",
    "with open('url_software_testing_loc_bangalore.json','w') as f:\n",
    "    json.dump(geturl(driver),f, indent = 4)\n",
    "    print(\"file created\")\n"
   ]
  },
  {
   "cell_type": "code",
   "execution_count": null,
   "id": "1d8bf9dd",
   "metadata": {},
   "outputs": [],
   "source": []
  }
 ],
 "metadata": {
  "kernelspec": {
   "display_name": "Python 3 (ipykernel)",
   "language": "python",
   "name": "python3"
  },
  "language_info": {
   "codemirror_mode": {
    "name": "ipython",
    "version": 3
   },
   "file_extension": ".py",
   "mimetype": "text/x-python",
   "name": "python",
   "nbconvert_exporter": "python",
   "pygments_lexer": "ipython3",
   "version": "3.9.13"
  }
 },
 "nbformat": 4,
 "nbformat_minor": 5
}
