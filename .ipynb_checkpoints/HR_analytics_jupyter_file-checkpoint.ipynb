{
 "cells": [
  {
   "cell_type": "code",
   "execution_count": null,
   "id": "1cc20bc0",
   "metadata": {},
   "outputs": [],
   "source": [
    "from pyresparser import ResumeParser\n",
    "import os\n",
    "from docx import Document"
   ]
  },
  {
   "cell_type": "code",
   "execution_count": null,
   "id": "f203bb71",
   "metadata": {},
   "outputs": [],
   "source": [
    "import numpy as np\n",
    "import pandas as pd\n",
    "import nltk\n",
    "from nltk.corpus import stopwords\n",
    "stopw  = set(stopwords.words('english'))\n",
    "df =pd.read_csv('job_final.csv') "
   ]
  },
  {
   "cell_type": "code",
   "execution_count": null,
   "id": "1ce368ca",
   "metadata": {},
   "outputs": [],
   "source": [
    "df['test']=df['Job_Description'].apply(lambda x: ' '.join([word for word in str(x).split() if len(word)>2 and word not in (stopw)]))\n",
    "df['test']"
   ]
  },
  {
   "cell_type": "code",
   "execution_count": null,
   "id": "d84e38d1",
   "metadata": {},
   "outputs": [],
   "source": [
    "df"
   ]
  },
  {
   "cell_type": "code",
   "execution_count": null,
   "id": "3c19328c",
   "metadata": {},
   "outputs": [],
   "source": [
    "\n",
    "\n",
    "##file format should be in .txt , .docx or .pdf only\n",
    "filed=input('specify the path of the resume (format(.txt, .docx and .pdf))==')\n",
    "\n",
    "try:\n",
    "    doc = Document()\n",
    "    with open(filed, 'r') as file:\n",
    "        doc.add_paragraph(file.read())\n",
    "    doc.save(\"text.docx\")\n",
    "    data1 = ResumeParser('text.docx').get_extracted_data()\n",
    "\n",
    "except:\n",
    "    data1 = ResumeParser(filed).get_extracted_data()\n",
    "    \n",
    "resume=data1['skills']\n",
    "\n"
   ]
  },
  {
   "cell_type": "code",
   "execution_count": null,
   "id": "58de5244",
   "metadata": {},
   "outputs": [],
   "source": [
    "print(resume)"
   ]
  },
  {
   "cell_type": "code",
   "execution_count": null,
   "id": "708f61fc",
   "metadata": {},
   "outputs": [],
   "source": [
    "skills=[]\n",
    "skills.append(' '.join(word for word in resume))"
   ]
  },
  {
   "cell_type": "code",
   "execution_count": null,
   "id": "cde593e3",
   "metadata": {},
   "outputs": [],
   "source": [
    "skills"
   ]
  },
  {
   "cell_type": "code",
   "execution_count": null,
   "id": "b34687f8",
   "metadata": {},
   "outputs": [],
   "source": [
    "import re\n",
    "\n",
    "from ftfy import fix_text\n",
    "\n",
    "def ngrams(string, n=3):\n",
    "    string = fix_text(string) # fix text\n",
    "    string = string.encode(\"ascii\", errors=\"ignore\").decode() #remove non ascii chars\n",
    "    string = string.lower()\n",
    "    chars_to_remove = [\")\",\"(\",\".\",\"|\",\"[\",\"]\",\"{\",\"}\",\"'\"]\n",
    "    rx = '[' + re.escape(''.join(chars_to_remove)) + ']'\n",
    "    string = re.sub(rx, '', string)\n",
    "    string = string.replace('&', 'and')\n",
    "    string = string.replace(',', ' ')\n",
    "    string = string.replace('-', ' ')\n",
    "    string = string.title() # normalise case - capital at start of each word\n",
    "    string = re.sub(' +',' ',string).strip() # get rid of multiple spaces and replace with a single\n",
    "    string = ' '+ string +' ' # pad names for ngrams...\n",
    "    string = re.sub(r'[,-./]|\\sBD',r'', string)\n",
    "    ngrams = zip(*[string[i:] for i in range(n)])\n",
    "    return [''.join(ngram) for ngram in ngrams]"
   ]
  },
  {
   "cell_type": "code",
   "execution_count": null,
   "id": "8ffbe570",
   "metadata": {},
   "outputs": [],
   "source": [
    "from sklearn.feature_extraction.text import TfidfVectorizer\n",
    "import re"
   ]
  },
  {
   "cell_type": "code",
   "execution_count": null,
   "id": "038911bc",
   "metadata": {},
   "outputs": [],
   "source": [
    "vectorizer = TfidfVectorizer(min_df=1, analyzer=ngrams, lowercase=False)\n",
    "tfidf = vectorizer.fit_transform(skills)"
   ]
  },
  {
   "cell_type": "code",
   "execution_count": null,
   "id": "b4c44d33",
   "metadata": {},
   "outputs": [],
   "source": [
    "\n",
    "\n",
    "from sklearn.neighbors import NearestNeighbors\n",
    "nbrs = NearestNeighbors(n_neighbors=1, n_jobs=-1).fit(tfidf)\n",
    "test = (df['test'].values.astype('U'))\n",
    "\n"
   ]
  },
  {
   "cell_type": "code",
   "execution_count": null,
   "id": "4454118f",
   "metadata": {},
   "outputs": [],
   "source": [
    "def getNearestN(query):\n",
    "  queryTFIDF_ = vectorizer.transform(query)\n",
    "  distances, indices = nbrs.kneighbors(queryTFIDF_)\n",
    "  return distances, indices"
   ]
  },
  {
   "cell_type": "code",
   "execution_count": null,
   "id": "1c3f5772",
   "metadata": {},
   "outputs": [],
   "source": [
    "\n",
    "\n",
    "distances, indices = getNearestN(test)\n",
    "test = list(test) \n",
    "matches = []\n",
    "\n"
   ]
  },
  {
   "cell_type": "code",
   "execution_count": null,
   "id": "a3b4aa51",
   "metadata": {},
   "outputs": [],
   "source": [
    "\n",
    "\n",
    "for i,j in enumerate(indices):\n",
    "    dist=round(distances[i][0],2)\n",
    "  \n",
    "    temp = [dist]\n",
    "    matches.append(temp)\n",
    "    \n",
    "matches = pd.DataFrame(matches, columns=['Match confidence'])\n",
    "\n"
   ]
  },
  {
   "cell_type": "code",
   "execution_count": null,
   "id": "e5f63a3b",
   "metadata": {},
   "outputs": [],
   "source": [
    "df['match']=matches['Match confidence']\n",
    "df1=df.sort_values('match')\n",
    "df1[['Position', 'Company','Location']].head(10).reset_index()"
   ]
  },
  {
   "cell_type": "code",
   "execution_count": null,
   "id": "04958316",
   "metadata": {},
   "outputs": [],
   "source": []
  },
  {
   "cell_type": "code",
   "execution_count": null,
   "id": "e157e28b",
   "metadata": {},
   "outputs": [],
   "source": []
  },
  {
   "cell_type": "code",
   "execution_count": null,
   "id": "595ebdd0",
   "metadata": {},
   "outputs": [],
   "source": []
  },
  {
   "cell_type": "code",
   "execution_count": null,
   "id": "0281bbf7",
   "metadata": {},
   "outputs": [],
   "source": []
  },
  {
   "cell_type": "code",
   "execution_count": null,
   "id": "bb042572",
   "metadata": {},
   "outputs": [],
   "source": []
  }
 ],
 "metadata": {
  "kernelspec": {
   "display_name": "Python 3 (ipykernel)",
   "language": "python",
   "name": "python3"
  },
  "language_info": {
   "codemirror_mode": {
    "name": "ipython",
    "version": 3
   },
   "file_extension": ".py",
   "mimetype": "text/x-python",
   "name": "python",
   "nbconvert_exporter": "python",
   "pygments_lexer": "ipython3",
   "version": "3.9.13"
  }
 },
 "nbformat": 4,
 "nbformat_minor": 5
}
