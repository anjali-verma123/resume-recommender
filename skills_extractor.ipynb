{
 "cells": [
  {
   "cell_type": "code",
   "execution_count": 1,
   "id": "0cff9911",
   "metadata": {},
   "outputs": [],
   "source": [
    "from pyresparser import ResumeParser\n",
    "import os\n",
    "from docx import Document"
   ]
  },
  {
   "cell_type": "code",
   "execution_count": 3,
   "id": "e8cdf9f0",
   "metadata": {},
   "outputs": [
    {
     "name": "stdout",
     "output_type": "stream",
     "text": [
      "Requirement already satisfied: python-docx in /home/anjali-dell/anaconda3/lib/python3.9/site-packages (0.8.11)\n",
      "Requirement already satisfied: lxml>=2.3.2 in /home/anjali-dell/anaconda3/lib/python3.9/site-packages (from python-docx) (4.9.1)\n",
      "Note: you may need to restart the kernel to use updated packages.\n"
     ]
    }
   ],
   "source": [
    "pip install python-docx "
   ]
  },
  {
   "cell_type": "code",
   "execution_count": 4,
   "id": "9cc34f6e",
   "metadata": {},
   "outputs": [
    {
     "name": "stdout",
     "output_type": "stream",
     "text": [
      "Requirement already satisfied: nltk in /home/anjali-dell/anaconda3/lib/python3.9/site-packages (3.7)\n",
      "Requirement already satisfied: click in /home/anjali-dell/anaconda3/lib/python3.9/site-packages (from nltk) (8.0.4)\n",
      "Requirement already satisfied: tqdm in /home/anjali-dell/anaconda3/lib/python3.9/site-packages (from nltk) (4.64.1)\n",
      "Requirement already satisfied: joblib in /home/anjali-dell/anaconda3/lib/python3.9/site-packages (from nltk) (1.1.0)\n",
      "Requirement already satisfied: regex>=2021.8.3 in /home/anjali-dell/anaconda3/lib/python3.9/site-packages (from nltk) (2022.7.9)\n",
      "Note: you may need to restart the kernel to use updated packages.\n"
     ]
    }
   ],
   "source": [
    "pip install nltk"
   ]
  },
  {
   "cell_type": "code",
   "execution_count": 5,
   "id": "d803c921",
   "metadata": {},
   "outputs": [],
   "source": [
    "import nltk"
   ]
  },
  {
   "cell_type": "code",
   "execution_count": 6,
   "id": "c8eebba4",
   "metadata": {},
   "outputs": [
    {
     "name": "stderr",
     "output_type": "stream",
     "text": [
      "[nltk_data] Downloading package stopwords to /home/anjali-\n",
      "[nltk_data]     dell/nltk_data...\n",
      "[nltk_data]   Package stopwords is already up-to-date!\n"
     ]
    },
    {
     "data": {
      "text/plain": [
       "True"
      ]
     },
     "execution_count": 6,
     "metadata": {},
     "output_type": "execute_result"
    }
   ],
   "source": [
    "nltk.download('stopwords')"
   ]
  },
  {
   "cell_type": "code",
   "execution_count": 3,
   "id": "42eb201a",
   "metadata": {},
   "outputs": [
    {
     "name": "stdout",
     "output_type": "stream",
     "text": [
      "CV.pdf\n"
     ]
    }
   ],
   "source": [
    "##file format should be in .txt , .docx or .pdf only\n",
    "filed=input()"
   ]
  },
  {
   "cell_type": "code",
   "execution_count": null,
   "id": "0dde7154",
   "metadata": {},
   "outputs": [],
   "source": []
  },
  {
   "cell_type": "code",
   "execution_count": 4,
   "id": "56454692",
   "metadata": {},
   "outputs": [
    {
     "ename": "AttributeError",
     "evalue": "'getset_descriptor' object has no attribute 'setdefault'",
     "output_type": "error",
     "traceback": [
      "\u001b[0;31m---------------------------------------------------------------------------\u001b[0m",
      "\u001b[0;31mUnicodeDecodeError\u001b[0m                        Traceback (most recent call last)",
      "\u001b[0;32m/tmp/ipykernel_27842/1660644435.py\u001b[0m in \u001b[0;36m<module>\u001b[0;34m\u001b[0m\n\u001b[1;32m      3\u001b[0m     \u001b[0;32mwith\u001b[0m \u001b[0mopen\u001b[0m\u001b[0;34m(\u001b[0m\u001b[0mfiled\u001b[0m\u001b[0;34m,\u001b[0m \u001b[0;34m'r'\u001b[0m\u001b[0;34m)\u001b[0m \u001b[0;32mas\u001b[0m \u001b[0mfile\u001b[0m\u001b[0;34m:\u001b[0m\u001b[0;34m\u001b[0m\u001b[0;34m\u001b[0m\u001b[0m\n\u001b[0;32m----> 4\u001b[0;31m         \u001b[0mdoc\u001b[0m\u001b[0;34m.\u001b[0m\u001b[0madd_paragraph\u001b[0m\u001b[0;34m(\u001b[0m\u001b[0mfile\u001b[0m\u001b[0;34m.\u001b[0m\u001b[0mread\u001b[0m\u001b[0;34m(\u001b[0m\u001b[0;34m)\u001b[0m\u001b[0;34m)\u001b[0m\u001b[0;34m\u001b[0m\u001b[0;34m\u001b[0m\u001b[0m\n\u001b[0m\u001b[1;32m      5\u001b[0m     \u001b[0mdoc\u001b[0m\u001b[0;34m.\u001b[0m\u001b[0msave\u001b[0m\u001b[0;34m(\u001b[0m\u001b[0;34m\"text.docx\"\u001b[0m\u001b[0;34m)\u001b[0m\u001b[0;34m\u001b[0m\u001b[0;34m\u001b[0m\u001b[0m\n",
      "\u001b[0;32m~/anaconda3/lib/python3.9/codecs.py\u001b[0m in \u001b[0;36mdecode\u001b[0;34m(self, input, final)\u001b[0m\n\u001b[1;32m    321\u001b[0m         \u001b[0mdata\u001b[0m \u001b[0;34m=\u001b[0m \u001b[0mself\u001b[0m\u001b[0;34m.\u001b[0m\u001b[0mbuffer\u001b[0m \u001b[0;34m+\u001b[0m \u001b[0minput\u001b[0m\u001b[0;34m\u001b[0m\u001b[0;34m\u001b[0m\u001b[0m\n\u001b[0;32m--> 322\u001b[0;31m         \u001b[0;34m(\u001b[0m\u001b[0mresult\u001b[0m\u001b[0;34m,\u001b[0m \u001b[0mconsumed\u001b[0m\u001b[0;34m)\u001b[0m \u001b[0;34m=\u001b[0m \u001b[0mself\u001b[0m\u001b[0;34m.\u001b[0m\u001b[0m_buffer_decode\u001b[0m\u001b[0;34m(\u001b[0m\u001b[0mdata\u001b[0m\u001b[0;34m,\u001b[0m \u001b[0mself\u001b[0m\u001b[0;34m.\u001b[0m\u001b[0merrors\u001b[0m\u001b[0;34m,\u001b[0m \u001b[0mfinal\u001b[0m\u001b[0;34m)\u001b[0m\u001b[0;34m\u001b[0m\u001b[0;34m\u001b[0m\u001b[0m\n\u001b[0m\u001b[1;32m    323\u001b[0m         \u001b[0;31m# keep undecoded input until the next call\u001b[0m\u001b[0;34m\u001b[0m\u001b[0;34m\u001b[0m\u001b[0m\n",
      "\u001b[0;31mUnicodeDecodeError\u001b[0m: 'utf-8' codec can't decode byte 0xbf in position 10: invalid start byte",
      "\nDuring handling of the above exception, another exception occurred:\n",
      "\u001b[0;31mAttributeError\u001b[0m                            Traceback (most recent call last)",
      "\u001b[0;32m/tmp/ipykernel_27842/1660644435.py\u001b[0m in \u001b[0;36m<module>\u001b[0;34m\u001b[0m\n\u001b[1;32m      7\u001b[0m     \u001b[0mprint\u001b[0m\u001b[0;34m(\u001b[0m\u001b[0mdata\u001b[0m\u001b[0;34m[\u001b[0m\u001b[0;34m'skills'\u001b[0m\u001b[0;34m]\u001b[0m\u001b[0;34m)\u001b[0m\u001b[0;34m\u001b[0m\u001b[0;34m\u001b[0m\u001b[0m\n\u001b[1;32m      8\u001b[0m \u001b[0;32mexcept\u001b[0m\u001b[0;34m:\u001b[0m\u001b[0;34m\u001b[0m\u001b[0;34m\u001b[0m\u001b[0m\n\u001b[0;32m----> 9\u001b[0;31m     \u001b[0mdata\u001b[0m \u001b[0;34m=\u001b[0m \u001b[0mResumeParser\u001b[0m\u001b[0;34m(\u001b[0m\u001b[0mfiled\u001b[0m\u001b[0;34m)\u001b[0m\u001b[0;34m.\u001b[0m\u001b[0mget_extracted_data\u001b[0m\u001b[0;34m(\u001b[0m\u001b[0;34m)\u001b[0m\u001b[0;34m\u001b[0m\u001b[0;34m\u001b[0m\u001b[0m\n\u001b[0m\u001b[1;32m     10\u001b[0m     \u001b[0mprint\u001b[0m\u001b[0;34m(\u001b[0m\u001b[0mdata\u001b[0m\u001b[0;34m[\u001b[0m\u001b[0;34m'skills'\u001b[0m\u001b[0;34m]\u001b[0m\u001b[0;34m)\u001b[0m\u001b[0;34m\u001b[0m\u001b[0;34m\u001b[0m\u001b[0m\n\u001b[1;32m     11\u001b[0m \u001b[0;34m\u001b[0m\u001b[0m\n",
      "\u001b[0;32m~/anaconda3/lib/python3.9/site-packages/pyresparser/resume_parser.py\u001b[0m in \u001b[0;36m__init__\u001b[0;34m(self, resume, skills_file, custom_regex)\u001b[0m\n\u001b[1;32m     18\u001b[0m         \u001b[0mcustom_regex\u001b[0m\u001b[0;34m=\u001b[0m\u001b[0;32mNone\u001b[0m\u001b[0;34m\u001b[0m\u001b[0;34m\u001b[0m\u001b[0m\n\u001b[1;32m     19\u001b[0m     ):\n\u001b[0;32m---> 20\u001b[0;31m         \u001b[0mnlp\u001b[0m \u001b[0;34m=\u001b[0m \u001b[0mspacy\u001b[0m\u001b[0;34m.\u001b[0m\u001b[0mload\u001b[0m\u001b[0;34m(\u001b[0m\u001b[0;34m'en_core_web_sm'\u001b[0m\u001b[0;34m)\u001b[0m\u001b[0;34m\u001b[0m\u001b[0;34m\u001b[0m\u001b[0m\n\u001b[0m\u001b[1;32m     21\u001b[0m         \u001b[0mcustom_nlp\u001b[0m \u001b[0;34m=\u001b[0m \u001b[0mspacy\u001b[0m\u001b[0;34m.\u001b[0m\u001b[0mload\u001b[0m\u001b[0;34m(\u001b[0m\u001b[0mos\u001b[0m\u001b[0;34m.\u001b[0m\u001b[0mpath\u001b[0m\u001b[0;34m.\u001b[0m\u001b[0mdirname\u001b[0m\u001b[0;34m(\u001b[0m\u001b[0mos\u001b[0m\u001b[0;34m.\u001b[0m\u001b[0mpath\u001b[0m\u001b[0;34m.\u001b[0m\u001b[0mabspath\u001b[0m\u001b[0;34m(\u001b[0m\u001b[0m__file__\u001b[0m\u001b[0;34m)\u001b[0m\u001b[0;34m)\u001b[0m\u001b[0;34m)\u001b[0m\u001b[0;34m\u001b[0m\u001b[0;34m\u001b[0m\u001b[0m\n\u001b[1;32m     22\u001b[0m         \u001b[0mself\u001b[0m\u001b[0;34m.\u001b[0m\u001b[0m__skills_file\u001b[0m \u001b[0;34m=\u001b[0m \u001b[0mskills_file\u001b[0m\u001b[0;34m\u001b[0m\u001b[0;34m\u001b[0m\u001b[0m\n",
      "\u001b[0;32m~/anaconda3/lib/python3.9/site-packages/spacy/__init__.py\u001b[0m in \u001b[0;36mload\u001b[0;34m(name, **overrides)\u001b[0m\n\u001b[1;32m     28\u001b[0m     \u001b[0;32mif\u001b[0m \u001b[0mdepr_path\u001b[0m \u001b[0;32mnot\u001b[0m \u001b[0;32min\u001b[0m \u001b[0;34m(\u001b[0m\u001b[0;32mTrue\u001b[0m\u001b[0;34m,\u001b[0m \u001b[0;32mFalse\u001b[0m\u001b[0;34m,\u001b[0m \u001b[0;32mNone\u001b[0m\u001b[0;34m)\u001b[0m\u001b[0;34m:\u001b[0m\u001b[0;34m\u001b[0m\u001b[0;34m\u001b[0m\u001b[0m\n\u001b[1;32m     29\u001b[0m         \u001b[0mwarnings\u001b[0m\u001b[0;34m.\u001b[0m\u001b[0mwarn\u001b[0m\u001b[0;34m(\u001b[0m\u001b[0mWarnings\u001b[0m\u001b[0;34m.\u001b[0m\u001b[0mW001\u001b[0m\u001b[0;34m.\u001b[0m\u001b[0mformat\u001b[0m\u001b[0;34m(\u001b[0m\u001b[0mpath\u001b[0m\u001b[0;34m=\u001b[0m\u001b[0mdepr_path\u001b[0m\u001b[0;34m)\u001b[0m\u001b[0;34m,\u001b[0m \u001b[0mDeprecationWarning\u001b[0m\u001b[0;34m)\u001b[0m\u001b[0;34m\u001b[0m\u001b[0;34m\u001b[0m\u001b[0m\n\u001b[0;32m---> 30\u001b[0;31m     \u001b[0;32mreturn\u001b[0m \u001b[0mutil\u001b[0m\u001b[0;34m.\u001b[0m\u001b[0mload_model\u001b[0m\u001b[0;34m(\u001b[0m\u001b[0mname\u001b[0m\u001b[0;34m,\u001b[0m \u001b[0;34m**\u001b[0m\u001b[0moverrides\u001b[0m\u001b[0;34m)\u001b[0m\u001b[0;34m\u001b[0m\u001b[0;34m\u001b[0m\u001b[0m\n\u001b[0m\u001b[1;32m     31\u001b[0m \u001b[0;34m\u001b[0m\u001b[0m\n\u001b[1;32m     32\u001b[0m \u001b[0;34m\u001b[0m\u001b[0m\n",
      "\u001b[0;32m~/anaconda3/lib/python3.9/site-packages/spacy/util.py\u001b[0m in \u001b[0;36mload_model\u001b[0;34m(name, **overrides)\u001b[0m\n\u001b[1;32m    168\u001b[0m             \u001b[0;32mreturn\u001b[0m \u001b[0mload_model_from_link\u001b[0m\u001b[0;34m(\u001b[0m\u001b[0mname\u001b[0m\u001b[0;34m,\u001b[0m \u001b[0;34m**\u001b[0m\u001b[0moverrides\u001b[0m\u001b[0;34m)\u001b[0m\u001b[0;34m\u001b[0m\u001b[0;34m\u001b[0m\u001b[0m\n\u001b[1;32m    169\u001b[0m         \u001b[0;32mif\u001b[0m \u001b[0mis_package\u001b[0m\u001b[0;34m(\u001b[0m\u001b[0mname\u001b[0m\u001b[0;34m)\u001b[0m\u001b[0;34m:\u001b[0m  \u001b[0;31m# installed as package\u001b[0m\u001b[0;34m\u001b[0m\u001b[0;34m\u001b[0m\u001b[0m\n\u001b[0;32m--> 170\u001b[0;31m             \u001b[0;32mreturn\u001b[0m \u001b[0mload_model_from_package\u001b[0m\u001b[0;34m(\u001b[0m\u001b[0mname\u001b[0m\u001b[0;34m,\u001b[0m \u001b[0;34m**\u001b[0m\u001b[0moverrides\u001b[0m\u001b[0;34m)\u001b[0m\u001b[0;34m\u001b[0m\u001b[0;34m\u001b[0m\u001b[0m\n\u001b[0m\u001b[1;32m    171\u001b[0m         \u001b[0;32mif\u001b[0m \u001b[0mPath\u001b[0m\u001b[0;34m(\u001b[0m\u001b[0mname\u001b[0m\u001b[0;34m)\u001b[0m\u001b[0;34m.\u001b[0m\u001b[0mexists\u001b[0m\u001b[0;34m(\u001b[0m\u001b[0;34m)\u001b[0m\u001b[0;34m:\u001b[0m  \u001b[0;31m# path to model data directory\u001b[0m\u001b[0;34m\u001b[0m\u001b[0;34m\u001b[0m\u001b[0m\n\u001b[1;32m    172\u001b[0m             \u001b[0;32mreturn\u001b[0m \u001b[0mload_model_from_path\u001b[0m\u001b[0;34m(\u001b[0m\u001b[0mPath\u001b[0m\u001b[0;34m(\u001b[0m\u001b[0mname\u001b[0m\u001b[0;34m)\u001b[0m\u001b[0;34m,\u001b[0m \u001b[0;34m**\u001b[0m\u001b[0moverrides\u001b[0m\u001b[0;34m)\u001b[0m\u001b[0;34m\u001b[0m\u001b[0;34m\u001b[0m\u001b[0m\n",
      "\u001b[0;32m~/anaconda3/lib/python3.9/site-packages/spacy/util.py\u001b[0m in \u001b[0;36mload_model_from_package\u001b[0;34m(name, **overrides)\u001b[0m\n\u001b[1;32m    189\u001b[0m     \u001b[0;34m\"\"\"Load a model from an installed package.\"\"\"\u001b[0m\u001b[0;34m\u001b[0m\u001b[0;34m\u001b[0m\u001b[0m\n\u001b[1;32m    190\u001b[0m     \u001b[0mcls\u001b[0m \u001b[0;34m=\u001b[0m \u001b[0mimportlib\u001b[0m\u001b[0;34m.\u001b[0m\u001b[0mimport_module\u001b[0m\u001b[0;34m(\u001b[0m\u001b[0mname\u001b[0m\u001b[0;34m)\u001b[0m\u001b[0;34m\u001b[0m\u001b[0;34m\u001b[0m\u001b[0m\n\u001b[0;32m--> 191\u001b[0;31m     \u001b[0;32mreturn\u001b[0m \u001b[0mcls\u001b[0m\u001b[0;34m.\u001b[0m\u001b[0mload\u001b[0m\u001b[0;34m(\u001b[0m\u001b[0;34m**\u001b[0m\u001b[0moverrides\u001b[0m\u001b[0;34m)\u001b[0m\u001b[0;34m\u001b[0m\u001b[0;34m\u001b[0m\u001b[0m\n\u001b[0m\u001b[1;32m    192\u001b[0m \u001b[0;34m\u001b[0m\u001b[0m\n\u001b[1;32m    193\u001b[0m \u001b[0;34m\u001b[0m\u001b[0m\n",
      "\u001b[0;32m~/anaconda3/lib/python3.9/site-packages/en_core_web_sm/__init__.py\u001b[0m in \u001b[0;36mload\u001b[0;34m(**overrides)\u001b[0m\n\u001b[1;32m     10\u001b[0m \u001b[0;34m\u001b[0m\u001b[0m\n\u001b[1;32m     11\u001b[0m \u001b[0;32mdef\u001b[0m \u001b[0mload\u001b[0m\u001b[0;34m(\u001b[0m\u001b[0;34m**\u001b[0m\u001b[0moverrides\u001b[0m\u001b[0;34m)\u001b[0m\u001b[0;34m:\u001b[0m\u001b[0;34m\u001b[0m\u001b[0;34m\u001b[0m\u001b[0m\n\u001b[0;32m---> 12\u001b[0;31m     \u001b[0;32mreturn\u001b[0m \u001b[0mload_model_from_init_py\u001b[0m\u001b[0;34m(\u001b[0m\u001b[0m__file__\u001b[0m\u001b[0;34m,\u001b[0m \u001b[0;34m**\u001b[0m\u001b[0moverrides\u001b[0m\u001b[0;34m)\u001b[0m\u001b[0;34m\u001b[0m\u001b[0;34m\u001b[0m\u001b[0m\n\u001b[0m",
      "\u001b[0;32m~/anaconda3/lib/python3.9/site-packages/spacy/util.py\u001b[0m in \u001b[0;36mload_model_from_init_py\u001b[0;34m(init_file, **overrides)\u001b[0m\n\u001b[1;32m    237\u001b[0m     \u001b[0;32mif\u001b[0m \u001b[0;32mnot\u001b[0m \u001b[0mmodel_path\u001b[0m\u001b[0;34m.\u001b[0m\u001b[0mexists\u001b[0m\u001b[0;34m(\u001b[0m\u001b[0;34m)\u001b[0m\u001b[0;34m:\u001b[0m\u001b[0;34m\u001b[0m\u001b[0;34m\u001b[0m\u001b[0m\n\u001b[1;32m    238\u001b[0m         \u001b[0;32mraise\u001b[0m \u001b[0mIOError\u001b[0m\u001b[0;34m(\u001b[0m\u001b[0mErrors\u001b[0m\u001b[0;34m.\u001b[0m\u001b[0mE052\u001b[0m\u001b[0;34m.\u001b[0m\u001b[0mformat\u001b[0m\u001b[0;34m(\u001b[0m\u001b[0mpath\u001b[0m\u001b[0;34m=\u001b[0m\u001b[0mpath2str\u001b[0m\u001b[0;34m(\u001b[0m\u001b[0mdata_path\u001b[0m\u001b[0;34m)\u001b[0m\u001b[0;34m)\u001b[0m\u001b[0;34m)\u001b[0m\u001b[0;34m\u001b[0m\u001b[0;34m\u001b[0m\u001b[0m\n\u001b[0;32m--> 239\u001b[0;31m     \u001b[0;32mreturn\u001b[0m \u001b[0mload_model_from_path\u001b[0m\u001b[0;34m(\u001b[0m\u001b[0mdata_path\u001b[0m\u001b[0;34m,\u001b[0m \u001b[0mmeta\u001b[0m\u001b[0;34m,\u001b[0m \u001b[0;34m**\u001b[0m\u001b[0moverrides\u001b[0m\u001b[0;34m)\u001b[0m\u001b[0;34m\u001b[0m\u001b[0;34m\u001b[0m\u001b[0m\n\u001b[0m\u001b[1;32m    240\u001b[0m \u001b[0;34m\u001b[0m\u001b[0m\n\u001b[1;32m    241\u001b[0m \u001b[0;34m\u001b[0m\u001b[0m\n",
      "\u001b[0;32m~/anaconda3/lib/python3.9/site-packages/spacy/util.py\u001b[0m in \u001b[0;36mload_model_from_path\u001b[0;34m(model_path, meta, **overrides)\u001b[0m\n\u001b[1;32m    220\u001b[0m             \u001b[0mcomponent\u001b[0m \u001b[0;34m=\u001b[0m \u001b[0mnlp\u001b[0m\u001b[0;34m.\u001b[0m\u001b[0mcreate_pipe\u001b[0m\u001b[0;34m(\u001b[0m\u001b[0mfactory\u001b[0m\u001b[0;34m,\u001b[0m \u001b[0mconfig\u001b[0m\u001b[0;34m=\u001b[0m\u001b[0mconfig\u001b[0m\u001b[0;34m)\u001b[0m\u001b[0;34m\u001b[0m\u001b[0;34m\u001b[0m\u001b[0m\n\u001b[1;32m    221\u001b[0m             \u001b[0mnlp\u001b[0m\u001b[0;34m.\u001b[0m\u001b[0madd_pipe\u001b[0m\u001b[0;34m(\u001b[0m\u001b[0mcomponent\u001b[0m\u001b[0;34m,\u001b[0m \u001b[0mname\u001b[0m\u001b[0;34m=\u001b[0m\u001b[0mname\u001b[0m\u001b[0;34m)\u001b[0m\u001b[0;34m\u001b[0m\u001b[0;34m\u001b[0m\u001b[0m\n\u001b[0;32m--> 222\u001b[0;31m     \u001b[0;32mreturn\u001b[0m \u001b[0mnlp\u001b[0m\u001b[0;34m.\u001b[0m\u001b[0mfrom_disk\u001b[0m\u001b[0;34m(\u001b[0m\u001b[0mmodel_path\u001b[0m\u001b[0;34m,\u001b[0m \u001b[0mexclude\u001b[0m\u001b[0;34m=\u001b[0m\u001b[0mdisable\u001b[0m\u001b[0;34m)\u001b[0m\u001b[0;34m\u001b[0m\u001b[0;34m\u001b[0m\u001b[0m\n\u001b[0m\u001b[1;32m    223\u001b[0m \u001b[0;34m\u001b[0m\u001b[0m\n\u001b[1;32m    224\u001b[0m \u001b[0;34m\u001b[0m\u001b[0m\n",
      "\u001b[0;32m~/anaconda3/lib/python3.9/site-packages/spacy/language.py\u001b[0m in \u001b[0;36mfrom_disk\u001b[0;34m(self, path, exclude, disable)\u001b[0m\n\u001b[1;32m    972\u001b[0m             \u001b[0;31m# Convert to list here in case exclude is (default) tuple\u001b[0m\u001b[0;34m\u001b[0m\u001b[0;34m\u001b[0m\u001b[0m\n\u001b[1;32m    973\u001b[0m             \u001b[0mexclude\u001b[0m \u001b[0;34m=\u001b[0m \u001b[0mlist\u001b[0m\u001b[0;34m(\u001b[0m\u001b[0mexclude\u001b[0m\u001b[0;34m)\u001b[0m \u001b[0;34m+\u001b[0m \u001b[0;34m[\u001b[0m\u001b[0;34m\"vocab\"\u001b[0m\u001b[0;34m]\u001b[0m\u001b[0;34m\u001b[0m\u001b[0;34m\u001b[0m\u001b[0m\n\u001b[0;32m--> 974\u001b[0;31m         \u001b[0mutil\u001b[0m\u001b[0;34m.\u001b[0m\u001b[0mfrom_disk\u001b[0m\u001b[0;34m(\u001b[0m\u001b[0mpath\u001b[0m\u001b[0;34m,\u001b[0m \u001b[0mdeserializers\u001b[0m\u001b[0;34m,\u001b[0m \u001b[0mexclude\u001b[0m\u001b[0;34m)\u001b[0m\u001b[0;34m\u001b[0m\u001b[0;34m\u001b[0m\u001b[0m\n\u001b[0m\u001b[1;32m    975\u001b[0m         \u001b[0mself\u001b[0m\u001b[0;34m.\u001b[0m\u001b[0m_path\u001b[0m \u001b[0;34m=\u001b[0m \u001b[0mpath\u001b[0m\u001b[0;34m\u001b[0m\u001b[0;34m\u001b[0m\u001b[0m\n\u001b[1;32m    976\u001b[0m         \u001b[0;32mreturn\u001b[0m \u001b[0mself\u001b[0m\u001b[0;34m\u001b[0m\u001b[0;34m\u001b[0m\u001b[0m\n",
      "\u001b[0;32m~/anaconda3/lib/python3.9/site-packages/spacy/util.py\u001b[0m in \u001b[0;36mfrom_disk\u001b[0;34m(path, readers, exclude)\u001b[0m\n\u001b[1;32m    688\u001b[0m         \u001b[0;31m# Split to support file names like meta.json\u001b[0m\u001b[0;34m\u001b[0m\u001b[0;34m\u001b[0m\u001b[0m\n\u001b[1;32m    689\u001b[0m         \u001b[0;32mif\u001b[0m \u001b[0mkey\u001b[0m\u001b[0;34m.\u001b[0m\u001b[0msplit\u001b[0m\u001b[0;34m(\u001b[0m\u001b[0;34m\".\"\u001b[0m\u001b[0;34m)\u001b[0m\u001b[0;34m[\u001b[0m\u001b[0;36m0\u001b[0m\u001b[0;34m]\u001b[0m \u001b[0;32mnot\u001b[0m \u001b[0;32min\u001b[0m \u001b[0mexclude\u001b[0m\u001b[0;34m:\u001b[0m\u001b[0;34m\u001b[0m\u001b[0;34m\u001b[0m\u001b[0m\n\u001b[0;32m--> 690\u001b[0;31m             \u001b[0mreader\u001b[0m\u001b[0;34m(\u001b[0m\u001b[0mpath\u001b[0m \u001b[0;34m/\u001b[0m \u001b[0mkey\u001b[0m\u001b[0;34m)\u001b[0m\u001b[0;34m\u001b[0m\u001b[0;34m\u001b[0m\u001b[0m\n\u001b[0m\u001b[1;32m    691\u001b[0m     \u001b[0;32mreturn\u001b[0m \u001b[0mpath\u001b[0m\u001b[0;34m\u001b[0m\u001b[0;34m\u001b[0m\u001b[0m\n\u001b[1;32m    692\u001b[0m \u001b[0;34m\u001b[0m\u001b[0m\n",
      "\u001b[0;32m~/anaconda3/lib/python3.9/site-packages/spacy/language.py\u001b[0m in \u001b[0;36mdeserialize_vocab\u001b[0;34m(path)\u001b[0m\n\u001b[1;32m    949\u001b[0m             \u001b[0;32mif\u001b[0m \u001b[0mpath\u001b[0m\u001b[0;34m.\u001b[0m\u001b[0mexists\u001b[0m\u001b[0;34m(\u001b[0m\u001b[0;34m)\u001b[0m\u001b[0;34m:\u001b[0m\u001b[0;34m\u001b[0m\u001b[0;34m\u001b[0m\u001b[0m\n\u001b[1;32m    950\u001b[0m                 \u001b[0mself\u001b[0m\u001b[0;34m.\u001b[0m\u001b[0mvocab\u001b[0m\u001b[0;34m.\u001b[0m\u001b[0mfrom_disk\u001b[0m\u001b[0;34m(\u001b[0m\u001b[0mpath\u001b[0m\u001b[0;34m)\u001b[0m\u001b[0;34m\u001b[0m\u001b[0;34m\u001b[0m\u001b[0m\n\u001b[0;32m--> 951\u001b[0;31m             \u001b[0m_fix_pretrained_vectors_name\u001b[0m\u001b[0;34m(\u001b[0m\u001b[0mself\u001b[0m\u001b[0;34m)\u001b[0m\u001b[0;34m\u001b[0m\u001b[0;34m\u001b[0m\u001b[0m\n\u001b[0m\u001b[1;32m    952\u001b[0m \u001b[0;34m\u001b[0m\u001b[0m\n\u001b[1;32m    953\u001b[0m         \u001b[0;32mif\u001b[0m \u001b[0mdisable\u001b[0m \u001b[0;32mis\u001b[0m \u001b[0;32mnot\u001b[0m \u001b[0;32mNone\u001b[0m\u001b[0;34m:\u001b[0m\u001b[0;34m\u001b[0m\u001b[0;34m\u001b[0m\u001b[0m\n",
      "\u001b[0;32m~/anaconda3/lib/python3.9/site-packages/spacy/language.py\u001b[0m in \u001b[0;36m_fix_pretrained_vectors_name\u001b[0;34m(nlp)\u001b[0m\n\u001b[1;32m   1107\u001b[0m         \u001b[0;32mif\u001b[0m \u001b[0;32mnot\u001b[0m \u001b[0mhasattr\u001b[0m\u001b[0;34m(\u001b[0m\u001b[0mproc\u001b[0m\u001b[0;34m,\u001b[0m \u001b[0;34m\"cfg\"\u001b[0m\u001b[0;34m)\u001b[0m\u001b[0;34m:\u001b[0m\u001b[0;34m\u001b[0m\u001b[0;34m\u001b[0m\u001b[0m\n\u001b[1;32m   1108\u001b[0m             \u001b[0;32mcontinue\u001b[0m\u001b[0;34m\u001b[0m\u001b[0;34m\u001b[0m\u001b[0m\n\u001b[0;32m-> 1109\u001b[0;31m         \u001b[0mproc\u001b[0m\u001b[0;34m.\u001b[0m\u001b[0mcfg\u001b[0m\u001b[0;34m.\u001b[0m\u001b[0msetdefault\u001b[0m\u001b[0;34m(\u001b[0m\u001b[0;34m\"deprecation_fixes\"\u001b[0m\u001b[0;34m,\u001b[0m \u001b[0;34m{\u001b[0m\u001b[0;34m}\u001b[0m\u001b[0;34m)\u001b[0m\u001b[0;34m\u001b[0m\u001b[0;34m\u001b[0m\u001b[0m\n\u001b[0m\u001b[1;32m   1110\u001b[0m         \u001b[0mproc\u001b[0m\u001b[0;34m.\u001b[0m\u001b[0mcfg\u001b[0m\u001b[0;34m[\u001b[0m\u001b[0;34m\"deprecation_fixes\"\u001b[0m\u001b[0;34m]\u001b[0m\u001b[0;34m[\u001b[0m\u001b[0;34m\"vectors_name\"\u001b[0m\u001b[0;34m]\u001b[0m \u001b[0;34m=\u001b[0m \u001b[0mnlp\u001b[0m\u001b[0;34m.\u001b[0m\u001b[0mvocab\u001b[0m\u001b[0;34m.\u001b[0m\u001b[0mvectors\u001b[0m\u001b[0;34m.\u001b[0m\u001b[0mname\u001b[0m\u001b[0;34m\u001b[0m\u001b[0;34m\u001b[0m\u001b[0m\n\u001b[1;32m   1111\u001b[0m \u001b[0;34m\u001b[0m\u001b[0m\n",
      "\u001b[0;31mAttributeError\u001b[0m: 'getset_descriptor' object has no attribute 'setdefault'"
     ]
    }
   ],
   "source": [
    "\n",
    "\n",
    "try:\n",
    "    doc = Document()\n",
    "    with open(filed, 'r') as file:\n",
    "        doc.add_paragraph(file.read())\n",
    "    doc.save(\"text.docx\")\n",
    "    data = ResumeParser('text.docx').get_extracted_data()\n",
    "    print(data['skills'])\n",
    "except:\n",
    "    data = ResumeParser(filed).get_extracted_data()\n",
    "    print(data['skills'])\n",
    "\n"
   ]
  },
  {
   "cell_type": "code",
   "execution_count": 7,
   "id": "5fdfd390",
   "metadata": {},
   "outputs": [
    {
     "name": "stdout",
     "output_type": "stream",
     "text": [
      "2023-03-31 15:48:43.309621: W tensorflow/compiler/xla/stream_executor/platform/default/dso_loader.cc:64] Could not load dynamic library 'libcudart.so.11.0'; dlerror: libcudart.so.11.0: cannot open shared object file: No such file or directory\n",
      "2023-03-31 15:48:43.309661: I tensorflow/compiler/xla/stream_executor/cuda/cudart_stub.cc:29] Ignore above cudart dlerror if you do not have a GPU set up on your machine.\n",
      "2023-03-31 15:48:45.606582: W tensorflow/compiler/xla/stream_executor/platform/default/dso_loader.cc:64] Could not load dynamic library 'libnvinfer.so.7'; dlerror: libnvinfer.so.7: cannot open shared object file: No such file or directory\n",
      "2023-03-31 15:48:45.606784: W tensorflow/compiler/xla/stream_executor/platform/default/dso_loader.cc:64] Could not load dynamic library 'libnvinfer_plugin.so.7'; dlerror: libnvinfer_plugin.so.7: cannot open shared object file: No such file or directory\n",
      "2023-03-31 15:48:45.606809: W tensorflow/compiler/tf2tensorrt/utils/py_utils.cc:38] TF-TRT Warning: Cannot dlopen some TensorRT libraries. If you would like to use Nvidia GPU with TensorRT, please make sure the missing libraries mentioned above are installed properly.\n",
      "\u001b[2K\u001b[38;5;2m✔ Loaded compatibility table\u001b[0m\n",
      "\u001b[1m\n",
      "================= Installed pipeline packages (spaCy v3.0.0) =================\u001b[0m\n",
      "\u001b[38;5;4mℹ spaCy installation:\n",
      "/home/anjali-dell/anaconda3/lib/python3.9/site-packages/spacy\u001b[0m\n",
      "\n",
      "No pipeline packages found in your current environment.\n",
      "\n"
     ]
    }
   ],
   "source": [
    "!python -m spacy validate"
   ]
  },
  {
   "cell_type": "code",
   "execution_count": 10,
   "id": "53926ae7",
   "metadata": {},
   "outputs": [
    {
     "name": "stdout",
     "output_type": "stream",
     "text": [
      "Requirement already satisfied: spacy==2.3.5 in /home/anjali-dell/anaconda3/lib/python3.9/site-packages (2.3.5)\n",
      "Requirement already satisfied: wasabi<1.1.0,>=0.4.0 in /home/anjali-dell/anaconda3/lib/python3.9/site-packages (from spacy==2.3.5) (0.10.1)\n",
      "Requirement already satisfied: catalogue<1.1.0,>=0.0.7 in /home/anjali-dell/anaconda3/lib/python3.9/site-packages (from spacy==2.3.5) (1.0.2)\n",
      "Requirement already satisfied: plac<1.2.0,>=0.9.6 in /home/anjali-dell/anaconda3/lib/python3.9/site-packages (from spacy==2.3.5) (1.1.3)\n",
      "Requirement already satisfied: setuptools in /home/anjali-dell/anaconda3/lib/python3.9/site-packages (from spacy==2.3.5) (63.4.1)\n",
      "Requirement already satisfied: srsly<1.1.0,>=1.0.2 in /home/anjali-dell/anaconda3/lib/python3.9/site-packages (from spacy==2.3.5) (1.0.6)\n",
      "Requirement already satisfied: thinc<7.5.0,>=7.4.1 in /home/anjali-dell/anaconda3/lib/python3.9/site-packages (from spacy==2.3.5) (7.4.6)\n",
      "Requirement already satisfied: requests<3.0.0,>=2.13.0 in /home/anjali-dell/anaconda3/lib/python3.9/site-packages (from spacy==2.3.5) (2.28.1)\n",
      "Requirement already satisfied: numpy>=1.15.0 in /home/anjali-dell/anaconda3/lib/python3.9/site-packages (from spacy==2.3.5) (1.21.5)\n",
      "Requirement already satisfied: murmurhash<1.1.0,>=0.28.0 in /home/anjali-dell/anaconda3/lib/python3.9/site-packages (from spacy==2.3.5) (1.0.9)\n",
      "Requirement already satisfied: tqdm<5.0.0,>=4.38.0 in /home/anjali-dell/anaconda3/lib/python3.9/site-packages (from spacy==2.3.5) (4.64.1)\n",
      "Requirement already satisfied: cymem<2.1.0,>=2.0.2 in /home/anjali-dell/anaconda3/lib/python3.9/site-packages (from spacy==2.3.5) (2.0.7)\n",
      "Requirement already satisfied: blis<0.8.0,>=0.4.0 in /home/anjali-dell/anaconda3/lib/python3.9/site-packages (from spacy==2.3.5) (0.7.9)\n",
      "Requirement already satisfied: preshed<3.1.0,>=3.0.2 in /home/anjali-dell/anaconda3/lib/python3.9/site-packages (from spacy==2.3.5) (3.0.8)\n",
      "Requirement already satisfied: certifi>=2017.4.17 in /home/anjali-dell/anaconda3/lib/python3.9/site-packages (from requests<3.0.0,>=2.13.0->spacy==2.3.5) (2022.9.14)\n",
      "Requirement already satisfied: idna<4,>=2.5 in /home/anjali-dell/anaconda3/lib/python3.9/site-packages (from requests<3.0.0,>=2.13.0->spacy==2.3.5) (3.3)\n",
      "Requirement already satisfied: urllib3<1.27,>=1.21.1 in /home/anjali-dell/anaconda3/lib/python3.9/site-packages (from requests<3.0.0,>=2.13.0->spacy==2.3.5) (1.26.11)\n",
      "Requirement already satisfied: charset-normalizer<3,>=2 in /home/anjali-dell/anaconda3/lib/python3.9/site-packages (from requests<3.0.0,>=2.13.0->spacy==2.3.5) (2.0.4)\n",
      "Note: you may need to restart the kernel to use updated packages.\n"
     ]
    }
   ],
   "source": []
  },
  {
   "cell_type": "code",
   "execution_count": 11,
   "id": "7940e3aa",
   "metadata": {},
   "outputs": [
    {
     "name": "stdout",
     "output_type": "stream",
     "text": [
      "Collecting https://github.com/explosion/spacy-models/releases/download/en_core_web_sm-2.3.1/en_core_web_sm-2.3.1.tar.gz\n",
      "  Downloading https://github.com/explosion/spacy-models/releases/download/en_core_web_sm-2.3.1/en_core_web_sm-2.3.1.tar.gz (12.0 MB)\n",
      "\u001b[2K     \u001b[38;2;114;156;31m━━━━━━━━━━━━━━━━━━━━━━━━━━━━━━━━━━━━━━━━\u001b[0m \u001b[32m12.0/12.0 MB\u001b[0m \u001b[31m4.5 MB/s\u001b[0m eta \u001b[36m0:00:00\u001b[0mm eta \u001b[36m0:00:01\u001b[0m0:01\u001b[0m:01\u001b[0m\n",
      "\u001b[?25h  Preparing metadata (setup.py) ... \u001b[?25ldone\n",
      "\u001b[?25hRequirement already satisfied: spacy<2.4.0,>=2.3.0 in /home/anjali-dell/anaconda3/lib/python3.9/site-packages (from en-core-web-sm==2.3.1) (2.3.5)\n",
      "Requirement already satisfied: srsly<1.1.0,>=1.0.2 in /home/anjali-dell/anaconda3/lib/python3.9/site-packages (from spacy<2.4.0,>=2.3.0->en-core-web-sm==2.3.1) (1.0.6)\n",
      "Requirement already satisfied: plac<1.2.0,>=0.9.6 in /home/anjali-dell/anaconda3/lib/python3.9/site-packages (from spacy<2.4.0,>=2.3.0->en-core-web-sm==2.3.1) (1.1.3)\n",
      "Requirement already satisfied: murmurhash<1.1.0,>=0.28.0 in /home/anjali-dell/anaconda3/lib/python3.9/site-packages (from spacy<2.4.0,>=2.3.0->en-core-web-sm==2.3.1) (1.0.9)\n",
      "Requirement already satisfied: requests<3.0.0,>=2.13.0 in /home/anjali-dell/anaconda3/lib/python3.9/site-packages (from spacy<2.4.0,>=2.3.0->en-core-web-sm==2.3.1) (2.28.1)\n",
      "Requirement already satisfied: cymem<2.1.0,>=2.0.2 in /home/anjali-dell/anaconda3/lib/python3.9/site-packages (from spacy<2.4.0,>=2.3.0->en-core-web-sm==2.3.1) (2.0.7)\n",
      "Requirement already satisfied: preshed<3.1.0,>=3.0.2 in /home/anjali-dell/anaconda3/lib/python3.9/site-packages (from spacy<2.4.0,>=2.3.0->en-core-web-sm==2.3.1) (3.0.8)\n",
      "Requirement already satisfied: thinc<7.5.0,>=7.4.1 in /home/anjali-dell/anaconda3/lib/python3.9/site-packages (from spacy<2.4.0,>=2.3.0->en-core-web-sm==2.3.1) (7.4.6)\n",
      "Requirement already satisfied: numpy>=1.15.0 in /home/anjali-dell/anaconda3/lib/python3.9/site-packages (from spacy<2.4.0,>=2.3.0->en-core-web-sm==2.3.1) (1.21.5)\n",
      "Requirement already satisfied: blis<0.8.0,>=0.4.0 in /home/anjali-dell/anaconda3/lib/python3.9/site-packages (from spacy<2.4.0,>=2.3.0->en-core-web-sm==2.3.1) (0.7.9)\n",
      "Requirement already satisfied: setuptools in /home/anjali-dell/anaconda3/lib/python3.9/site-packages (from spacy<2.4.0,>=2.3.0->en-core-web-sm==2.3.1) (63.4.1)\n",
      "Requirement already satisfied: tqdm<5.0.0,>=4.38.0 in /home/anjali-dell/anaconda3/lib/python3.9/site-packages (from spacy<2.4.0,>=2.3.0->en-core-web-sm==2.3.1) (4.64.1)\n",
      "Requirement already satisfied: wasabi<1.1.0,>=0.4.0 in /home/anjali-dell/anaconda3/lib/python3.9/site-packages (from spacy<2.4.0,>=2.3.0->en-core-web-sm==2.3.1) (0.10.1)\n",
      "Requirement already satisfied: catalogue<1.1.0,>=0.0.7 in /home/anjali-dell/anaconda3/lib/python3.9/site-packages (from spacy<2.4.0,>=2.3.0->en-core-web-sm==2.3.1) (1.0.2)\n",
      "Requirement already satisfied: idna<4,>=2.5 in /home/anjali-dell/anaconda3/lib/python3.9/site-packages (from requests<3.0.0,>=2.13.0->spacy<2.4.0,>=2.3.0->en-core-web-sm==2.3.1) (3.3)\n",
      "Requirement already satisfied: certifi>=2017.4.17 in /home/anjali-dell/anaconda3/lib/python3.9/site-packages (from requests<3.0.0,>=2.13.0->spacy<2.4.0,>=2.3.0->en-core-web-sm==2.3.1) (2022.9.14)\n",
      "Requirement already satisfied: charset-normalizer<3,>=2 in /home/anjali-dell/anaconda3/lib/python3.9/site-packages (from requests<3.0.0,>=2.13.0->spacy<2.4.0,>=2.3.0->en-core-web-sm==2.3.1) (2.0.4)\n",
      "Requirement already satisfied: urllib3<1.27,>=1.21.1 in /home/anjali-dell/anaconda3/lib/python3.9/site-packages (from requests<3.0.0,>=2.13.0->spacy<2.4.0,>=2.3.0->en-core-web-sm==2.3.1) (1.26.11)\n",
      "Note: you may need to restart the kernel to use updated packages.\n"
     ]
    }
   ],
   "source": [
    "pip install https://github.com/explosion/spacy-models/releases/download/en_core_web_sm-2.3.1/en_core_web_sm-2.3.1.tar.gz\n"
   ]
  },
  {
   "cell_type": "code",
   "execution_count": 12,
   "id": "81789a20",
   "metadata": {},
   "outputs": [
    {
     "name": "stdout",
     "output_type": "stream",
     "text": [
      "Requirement already satisfied: pyresparser in /home/anjali-dell/anaconda3/lib/python3.9/site-packages (1.0.6)\n",
      "Requirement already satisfied: cymem>=2.0.2 in /home/anjali-dell/anaconda3/lib/python3.9/site-packages (from pyresparser) (2.0.7)\n",
      "Requirement already satisfied: certifi>=2019.6.16 in /home/anjali-dell/anaconda3/lib/python3.9/site-packages (from pyresparser) (2022.9.14)\n",
      "Requirement already satisfied: pdfminer.six>=20181108 in /home/anjali-dell/anaconda3/lib/python3.9/site-packages (from pyresparser) (20221105)\n",
      "Requirement already satisfied: pyrsistent>=0.15.2 in /home/anjali-dell/anaconda3/lib/python3.9/site-packages (from pyresparser) (0.18.0)\n",
      "Requirement already satisfied: numpy>=1.16.4 in /home/anjali-dell/anaconda3/lib/python3.9/site-packages (from pyresparser) (1.21.5)\n",
      "Requirement already satisfied: attrs>=19.1.0 in /home/anjali-dell/anaconda3/lib/python3.9/site-packages (from pyresparser) (21.4.0)\n",
      "Requirement already satisfied: jsonschema>=3.0.1 in /home/anjali-dell/anaconda3/lib/python3.9/site-packages (from pyresparser) (4.16.0)\n",
      "Requirement already satisfied: pandas>=0.24.2 in /home/anjali-dell/anaconda3/lib/python3.9/site-packages (from pyresparser) (1.4.4)\n",
      "Requirement already satisfied: six>=1.12.0 in /home/anjali-dell/anaconda3/lib/python3.9/site-packages (from pyresparser) (1.16.0)\n",
      "Requirement already satisfied: idna>=2.8 in /home/anjali-dell/anaconda3/lib/python3.9/site-packages (from pyresparser) (3.3)\n",
      "Requirement already satisfied: spacy>=2.1.4 in /home/anjali-dell/anaconda3/lib/python3.9/site-packages (from pyresparser) (2.3.5)\n",
      "Requirement already satisfied: thinc>=7.0.4 in /home/anjali-dell/anaconda3/lib/python3.9/site-packages (from pyresparser) (7.4.6)\n",
      "Requirement already satisfied: preshed>=2.0.1 in /home/anjali-dell/anaconda3/lib/python3.9/site-packages (from pyresparser) (3.0.8)\n",
      "Requirement already satisfied: srsly>=0.0.7 in /home/anjali-dell/anaconda3/lib/python3.9/site-packages (from pyresparser) (1.0.6)\n",
      "Requirement already satisfied: chardet>=3.0.4 in /home/anjali-dell/anaconda3/lib/python3.9/site-packages (from pyresparser) (4.0.0)\n",
      "Requirement already satisfied: wasabi>=0.2.2 in /home/anjali-dell/anaconda3/lib/python3.9/site-packages (from pyresparser) (0.10.1)\n",
      "Requirement already satisfied: pytz>=2019.1 in /home/anjali-dell/anaconda3/lib/python3.9/site-packages (from pyresparser) (2022.1)\n",
      "Requirement already satisfied: urllib3>=1.25.3 in /home/anjali-dell/anaconda3/lib/python3.9/site-packages (from pyresparser) (1.26.11)\n",
      "Requirement already satisfied: blis>=0.2.4 in /home/anjali-dell/anaconda3/lib/python3.9/site-packages (from pyresparser) (0.7.9)\n",
      "Requirement already satisfied: pycryptodome>=3.8.2 in /home/anjali-dell/anaconda3/lib/python3.9/site-packages (from pyresparser) (3.17)\n",
      "Requirement already satisfied: tqdm>=4.32.2 in /home/anjali-dell/anaconda3/lib/python3.9/site-packages (from pyresparser) (4.64.1)\n",
      "Requirement already satisfied: sortedcontainers>=2.1.0 in /home/anjali-dell/anaconda3/lib/python3.9/site-packages (from pyresparser) (2.4.0)\n",
      "Requirement already satisfied: python-dateutil>=2.8.0 in /home/anjali-dell/anaconda3/lib/python3.9/site-packages (from pyresparser) (2.8.2)\n",
      "Requirement already satisfied: docx2txt>=0.7 in /home/anjali-dell/anaconda3/lib/python3.9/site-packages (from pyresparser) (0.8)\n",
      "Requirement already satisfied: nltk>=3.4.3 in /home/anjali-dell/anaconda3/lib/python3.9/site-packages (from pyresparser) (3.7)\n",
      "Requirement already satisfied: requests>=2.22.0 in /home/anjali-dell/anaconda3/lib/python3.9/site-packages (from pyresparser) (2.28.1)\n",
      "Requirement already satisfied: regex>=2021.8.3 in /home/anjali-dell/anaconda3/lib/python3.9/site-packages (from nltk>=3.4.3->pyresparser) (2022.7.9)\n",
      "Requirement already satisfied: joblib in /home/anjali-dell/anaconda3/lib/python3.9/site-packages (from nltk>=3.4.3->pyresparser) (1.1.0)\n",
      "Requirement already satisfied: click in /home/anjali-dell/anaconda3/lib/python3.9/site-packages (from nltk>=3.4.3->pyresparser) (8.0.4)\n",
      "Requirement already satisfied: cryptography>=36.0.0 in /home/anjali-dell/anaconda3/lib/python3.9/site-packages (from pdfminer.six>=20181108->pyresparser) (37.0.1)\n",
      "Requirement already satisfied: charset-normalizer>=2.0.0 in /home/anjali-dell/anaconda3/lib/python3.9/site-packages (from pdfminer.six>=20181108->pyresparser) (2.0.4)\n",
      "Requirement already satisfied: murmurhash<1.1.0,>=0.28.0 in /home/anjali-dell/anaconda3/lib/python3.9/site-packages (from preshed>=2.0.1->pyresparser) (1.0.9)\n",
      "Requirement already satisfied: setuptools in /home/anjali-dell/anaconda3/lib/python3.9/site-packages (from spacy>=2.1.4->pyresparser) (63.4.1)\n",
      "Requirement already satisfied: catalogue<1.1.0,>=0.0.7 in /home/anjali-dell/anaconda3/lib/python3.9/site-packages (from spacy>=2.1.4->pyresparser) (1.0.2)\n",
      "Requirement already satisfied: plac<1.2.0,>=0.9.6 in /home/anjali-dell/anaconda3/lib/python3.9/site-packages (from spacy>=2.1.4->pyresparser) (1.1.3)\n",
      "Requirement already satisfied: cffi>=1.12 in /home/anjali-dell/anaconda3/lib/python3.9/site-packages (from cryptography>=36.0.0->pdfminer.six>=20181108->pyresparser) (1.15.1)\n",
      "Requirement already satisfied: pycparser in /home/anjali-dell/anaconda3/lib/python3.9/site-packages (from cffi>=1.12->cryptography>=36.0.0->pdfminer.six>=20181108->pyresparser) (2.21)\n",
      "Note: you may need to restart the kernel to use updated packages.\n"
     ]
    }
   ],
   "source": [
    "\n",
    "pip install pyresparser"
   ]
  },
  {
   "cell_type": "code",
   "execution_count": 13,
   "id": "1ac1f132",
   "metadata": {},
   "outputs": [
    {
     "name": "stderr",
     "output_type": "stream",
     "text": [
      "/home/anjali-dell/anaconda3/lib/python3.9/site-packages/spacy/util.py:275: UserWarning: [W031] Model 'en_training' (0.0.0) requires spaCy v2.1 and is incompatible with the current spaCy version (2.3.5). This may lead to unexpected results or runtime errors. To resolve this, download a newer compatible model or retrain your custom model with the current spaCy version. For more details and available updates, run: python -m spacy validate\n",
      "  warnings.warn(warn_msg)\n"
     ]
    },
    {
     "name": "stdout",
     "output_type": "stream",
     "text": [
      "['Api', 'Pyqt', 'Design', 'Training', 'Algorithms', 'Word', 'C++', 'Modeling', 'Coding', 'Sci', 'Prototype', 'Testing', 'Opencv', 'Database', 'Analysis', 'Github', 'Css', 'Statistics', 'Ui', 'Computer science', 'Html', 'Engineering', 'Programming', 'Chemicals', 'C', 'Keras', 'Python']\n"
     ]
    }
   ],
   "source": [
    "try:\n",
    "    doc = Document()\n",
    "    with open(filed, 'r') as file:\n",
    "        doc.add_paragraph(file.read())\n",
    "    doc.save(\"text.docx\")\n",
    "    data = ResumeParser('text.docx').get_extracted_data()\n",
    "    print(data['skills'])\n",
    "except:\n",
    "    data = ResumeParser(filed).get_extracted_data()\n",
    "    print(data['skills'])\n"
   ]
  },
  {
   "cell_type": "code",
   "execution_count": 14,
   "id": "811dff8e",
   "metadata": {},
   "outputs": [
    {
     "name": "stdout",
     "output_type": "stream",
     "text": [
      "\u001b[2K\u001b[38;5;2m✔ Loaded compatibility table\u001b[0m\n",
      "\u001b[1m\n",
      "====================== Installed models (spaCy v2.3.5) ======================\u001b[0m\n",
      "\u001b[38;5;4mℹ spaCy installation:\n",
      "/home/anjali-dell/anaconda3/lib/python3.9/site-packages/spacy\u001b[0m\n",
      "\n",
      "TYPE      NAME             MODEL            VERSION                            \n",
      "package   en-core-web-sm   en_core_web_sm   \u001b[38;5;2m2.3.1\u001b[0m   \u001b[38;5;2m✔\u001b[0m\n",
      "\n"
     ]
    }
   ],
   "source": [
    "!python -m spacy validate"
   ]
  },
  {
   "cell_type": "code",
   "execution_count": 6,
   "id": "ec0935e3",
   "metadata": {},
   "outputs": [
    {
     "name": "stdout",
     "output_type": "stream",
     "text": [
      "Collecting spacy==3.0.0\n",
      "  Downloading spacy-3.0.0-cp39-cp39-manylinux2014_x86_64.whl (12.5 MB)\n",
      "\u001b[2K     \u001b[38;2;114;156;31m━━━━━━━━━━━━━━━━━━━━━━━━━━━━━━━━━━━━━━━━\u001b[0m \u001b[32m12.5/12.5 MB\u001b[0m \u001b[31m1.1 MB/s\u001b[0m eta \u001b[36m0:00:00\u001b[0mm eta \u001b[36m0:00:01\u001b[0m[36m0:00:01\u001b[0mm\n",
      "\u001b[?25hCollecting pydantic<1.8.0,>=1.7.1\n",
      "  Downloading pydantic-1.7.4-cp39-cp39-manylinux2014_x86_64.whl (10.3 MB)\n",
      "\u001b[2K     \u001b[38;2;114;156;31m━━━━━━━━━━━━━━━━━━━━━━━━━━━━━━━━━━━━━━━━\u001b[0m \u001b[32m10.3/10.3 MB\u001b[0m \u001b[31m3.1 MB/s\u001b[0m eta \u001b[36m0:00:00\u001b[0mm eta \u001b[36m0:00:01\u001b[0m[36m0:00:01\u001b[0m\n",
      "\u001b[?25hRequirement already satisfied: setuptools in /home/anjali-dell/anaconda3/lib/python3.9/site-packages (from spacy==3.0.0) (63.4.1)\n",
      "Collecting typer<0.4.0,>=0.3.0\n",
      "  Downloading typer-0.3.2-py3-none-any.whl (21 kB)\n",
      "Requirement already satisfied: tqdm<5.0.0,>=4.38.0 in /home/anjali-dell/anaconda3/lib/python3.9/site-packages (from spacy==3.0.0) (4.64.1)\n",
      "Requirement already satisfied: pathy in /home/anjali-dell/anaconda3/lib/python3.9/site-packages (from spacy==3.0.0) (0.10.1)\n",
      "Requirement already satisfied: spacy-legacy<3.1.0,>=3.0.0 in /home/anjali-dell/anaconda3/lib/python3.9/site-packages (from spacy==3.0.0) (3.0.12)\n",
      "Requirement already satisfied: blis<0.8.0,>=0.4.0 in /home/anjali-dell/anaconda3/lib/python3.9/site-packages (from spacy==3.0.0) (0.4.1)\n",
      "Collecting srsly<3.0.0,>=2.4.0\n",
      "  Downloading srsly-2.4.6-cp39-cp39-manylinux_2_17_x86_64.manylinux2014_x86_64.whl (491 kB)\n",
      "\u001b[2K     \u001b[38;2;114;156;31m━━━━━━━━━━━━━━━━━━━━━━━━━━━━━━━━━━━━━━━\u001b[0m \u001b[32m491.6/491.6 kB\u001b[0m \u001b[31m6.3 MB/s\u001b[0m eta \u001b[36m0:00:00\u001b[0mm eta \u001b[36m0:00:01\u001b[0m[36m0:00:01\u001b[0m\n",
      "\u001b[?25hRequirement already satisfied: jinja2 in /home/anjali-dell/anaconda3/lib/python3.9/site-packages (from spacy==3.0.0) (2.11.3)\n",
      "Collecting thinc<8.1.0,>=8.0.0\n",
      "  Downloading thinc-8.0.17-cp39-cp39-manylinux_2_17_x86_64.manylinux2014_x86_64.whl (668 kB)\n",
      "\u001b[2K     \u001b[38;2;114;156;31m━━━━━━━━━━━━━━━━━━━━━━━━━━━━━━━━━━━━━━━\u001b[0m \u001b[32m668.8/668.8 kB\u001b[0m \u001b[31m6.0 MB/s\u001b[0m eta \u001b[36m0:00:00\u001b[0m[31m6.7 MB/s\u001b[0m eta \u001b[36m0:00:01\u001b[0m\n",
      "\u001b[?25hRequirement already satisfied: wasabi<1.1.0,>=0.8.1 in /home/anjali-dell/anaconda3/lib/python3.9/site-packages (from spacy==3.0.0) (0.10.1)\n",
      "Requirement already satisfied: requests<3.0.0,>=2.13.0 in /home/anjali-dell/anaconda3/lib/python3.9/site-packages (from spacy==3.0.0) (2.28.1)\n",
      "Requirement already satisfied: cymem<2.1.0,>=2.0.2 in /home/anjali-dell/anaconda3/lib/python3.9/site-packages (from spacy==3.0.0) (2.0.7)\n",
      "Requirement already satisfied: preshed<3.1.0,>=3.0.2 in /home/anjali-dell/anaconda3/lib/python3.9/site-packages (from spacy==3.0.0) (3.0.8)\n",
      "Requirement already satisfied: numpy>=1.15.0 in /home/anjali-dell/anaconda3/lib/python3.9/site-packages (from spacy==3.0.0) (1.21.5)\n",
      "Collecting catalogue<2.1.0,>=2.0.1\n",
      "  Using cached catalogue-2.0.8-py3-none-any.whl (17 kB)\n",
      "Requirement already satisfied: murmurhash<1.1.0,>=0.28.0 in /home/anjali-dell/anaconda3/lib/python3.9/site-packages (from spacy==3.0.0) (1.0.9)\n",
      "Requirement already satisfied: packaging>=20.0 in /home/anjali-dell/anaconda3/lib/python3.9/site-packages (from spacy==3.0.0) (21.3)\n",
      "Requirement already satisfied: pyparsing!=3.0.5,>=2.0.2 in /home/anjali-dell/anaconda3/lib/python3.9/site-packages (from packaging>=20.0->spacy==3.0.0) (3.0.9)\n",
      "Requirement already satisfied: idna<4,>=2.5 in /home/anjali-dell/anaconda3/lib/python3.9/site-packages (from requests<3.0.0,>=2.13.0->spacy==3.0.0) (3.4)\n",
      "Requirement already satisfied: urllib3<1.27,>=1.21.1 in /home/anjali-dell/anaconda3/lib/python3.9/site-packages (from requests<3.0.0,>=2.13.0->spacy==3.0.0) (1.26.15)\n",
      "Requirement already satisfied: charset-normalizer<3,>=2 in /home/anjali-dell/anaconda3/lib/python3.9/site-packages (from requests<3.0.0,>=2.13.0->spacy==3.0.0) (2.0.4)\n",
      "Requirement already satisfied: certifi>=2017.4.17 in /home/anjali-dell/anaconda3/lib/python3.9/site-packages (from requests<3.0.0,>=2.13.0->spacy==3.0.0) (2022.12.7)\n",
      "Collecting click<7.2.0,>=7.1.1\n",
      "  Downloading click-7.1.2-py2.py3-none-any.whl (82 kB)\n",
      "\u001b[2K     \u001b[38;2;114;156;31m━━━━━━━━━━━━━━━━━━━━━━━━━━━━━━━━━━━━━━━━\u001b[0m \u001b[32m82.8/82.8 kB\u001b[0m \u001b[31m3.8 MB/s\u001b[0m eta \u001b[36m0:00:00\u001b[0m\n",
      "\u001b[?25hRequirement already satisfied: MarkupSafe>=0.23 in /home/anjali-dell/anaconda3/lib/python3.9/site-packages (from jinja2->spacy==3.0.0) (2.0.1)\n",
      "Requirement already satisfied: smart-open<7.0.0,>=5.2.1 in /home/anjali-dell/anaconda3/lib/python3.9/site-packages (from pathy->spacy==3.0.0) (5.2.1)\n",
      "Installing collected packages: pydantic, click, catalogue, typer, srsly, thinc, spacy\n",
      "  Attempting uninstall: pydantic\n",
      "    Found existing installation: pydantic 1.10.4\n",
      "    Uninstalling pydantic-1.10.4:\n",
      "      Successfully uninstalled pydantic-1.10.4\n",
      "  Attempting uninstall: click\n",
      "    Found existing installation: click 8.0.4\n",
      "    Uninstalling click-8.0.4:\n",
      "      Successfully uninstalled click-8.0.4\n",
      "  Attempting uninstall: catalogue\n",
      "    Found existing installation: catalogue 1.0.2\n",
      "    Uninstalling catalogue-1.0.2:\n",
      "      Successfully uninstalled catalogue-1.0.2\n",
      "  Attempting uninstall: typer\n",
      "    Found existing installation: typer 0.7.0\n",
      "    Uninstalling typer-0.7.0:\n",
      "      Successfully uninstalled typer-0.7.0\n",
      "  Attempting uninstall: srsly\n",
      "    Found existing installation: srsly 1.0.6\n",
      "    Uninstalling srsly-1.0.6:\n",
      "      Successfully uninstalled srsly-1.0.6\n",
      "  Attempting uninstall: thinc\n",
      "    Found existing installation: thinc 7.4.1\n",
      "    Uninstalling thinc-7.4.1:\n",
      "      Successfully uninstalled thinc-7.4.1\n",
      "  Attempting uninstall: spacy\n",
      "    Found existing installation: spacy 2.3.1\n",
      "    Uninstalling spacy-2.3.1:\n",
      "      Successfully uninstalled spacy-2.3.1\n",
      "\u001b[31mERROR: pip's dependency resolver does not currently take into account all the packages that are installed. This behaviour is the source of the following dependency conflicts.\n",
      "en-core-web-sm 2.3.1 requires spacy<2.4.0,>=2.3.0, but you have spacy 3.0.0 which is incompatible.\n",
      "black 22.6.0 requires click>=8.0.0, but you have click 7.1.2 which is incompatible.\u001b[0m\u001b[31m\n",
      "\u001b[0mSuccessfully installed catalogue-2.0.8 click-7.1.2 pydantic-1.7.4 spacy-3.0.0 srsly-2.4.6 thinc-8.0.17 typer-0.3.2\n",
      "Note: you may need to restart the kernel to use updated packages.\n"
     ]
    }
   ],
   "source": [
    "pip install spacy==3.0.0"
   ]
  },
  {
   "cell_type": "code",
   "execution_count": 1,
   "id": "9d5c8a51",
   "metadata": {},
   "outputs": [
    {
     "name": "stdout",
     "output_type": "stream",
     "text": [
      "Collecting spacy==2.3.7\n",
      "  Downloading spacy-2.3.7-cp39-cp39-manylinux_2_17_x86_64.manylinux2014_x86_64.whl (10.3 MB)\n",
      "\u001b[2K     \u001b[38;2;114;156;31m━━━━━━━━━━━━━━━━━━━━━━━━━━━━━━━━━━━━━━━━\u001b[0m \u001b[32m10.3/10.3 MB\u001b[0m \u001b[31m3.7 MB/s\u001b[0m eta \u001b[36m0:00:00\u001b[0mm eta \u001b[36m0:00:01\u001b[0m:01\u001b[0m:01\u001b[0m\n",
      "\u001b[?25hRequirement already satisfied: setuptools in /home/anjali-dell/anaconda3/lib/python3.9/site-packages (from spacy==2.3.7) (63.4.1)\n",
      "Requirement already satisfied: preshed<3.1.0,>=3.0.2 in /home/anjali-dell/anaconda3/lib/python3.9/site-packages (from spacy==2.3.7) (3.0.8)\n",
      "Requirement already satisfied: tqdm<5.0.0,>=4.38.0 in /home/anjali-dell/anaconda3/lib/python3.9/site-packages (from spacy==2.3.7) (4.64.1)\n",
      "Collecting thinc<7.5.0,>=7.4.1\n",
      "  Using cached thinc-7.4.6-cp39-cp39-manylinux_2_17_x86_64.manylinux2014_x86_64.whl (1.1 MB)\n",
      "Requirement already satisfied: requests<3.0.0,>=2.13.0 in /home/anjali-dell/anaconda3/lib/python3.9/site-packages (from spacy==2.3.7) (2.28.1)\n",
      "Requirement already satisfied: blis<0.8.0,>=0.4.0 in /home/anjali-dell/anaconda3/lib/python3.9/site-packages (from spacy==2.3.7) (0.4.1)\n",
      "Requirement already satisfied: numpy>=1.15.0 in /home/anjali-dell/anaconda3/lib/python3.9/site-packages (from spacy==2.3.7) (1.21.5)\n",
      "Requirement already satisfied: plac<1.2.0,>=0.9.6 in /home/anjali-dell/anaconda3/lib/python3.9/site-packages (from spacy==2.3.7) (1.1.3)\n",
      "Collecting srsly<1.1.0,>=1.0.2\n",
      "  Using cached srsly-1.0.6-cp39-cp39-manylinux_2_17_x86_64.manylinux2014_x86_64.whl (209 kB)\n",
      "Collecting catalogue<1.1.0,>=0.0.7\n",
      "  Using cached catalogue-1.0.2-py2.py3-none-any.whl (16 kB)\n",
      "Requirement already satisfied: wasabi<1.1.0,>=0.4.0 in /home/anjali-dell/anaconda3/lib/python3.9/site-packages (from spacy==2.3.7) (0.10.1)\n",
      "Requirement already satisfied: cymem<2.1.0,>=2.0.2 in /home/anjali-dell/anaconda3/lib/python3.9/site-packages (from spacy==2.3.7) (2.0.7)\n",
      "Requirement already satisfied: murmurhash<1.1.0,>=0.28.0 in /home/anjali-dell/anaconda3/lib/python3.9/site-packages (from spacy==2.3.7) (1.0.9)\n",
      "Requirement already satisfied: idna<4,>=2.5 in /home/anjali-dell/anaconda3/lib/python3.9/site-packages (from requests<3.0.0,>=2.13.0->spacy==2.3.7) (3.4)\n",
      "Requirement already satisfied: charset-normalizer<3,>=2 in /home/anjali-dell/anaconda3/lib/python3.9/site-packages (from requests<3.0.0,>=2.13.0->spacy==2.3.7) (2.0.4)\n",
      "Requirement already satisfied: certifi>=2017.4.17 in /home/anjali-dell/anaconda3/lib/python3.9/site-packages (from requests<3.0.0,>=2.13.0->spacy==2.3.7) (2022.12.7)\n",
      "Requirement already satisfied: urllib3<1.27,>=1.21.1 in /home/anjali-dell/anaconda3/lib/python3.9/site-packages (from requests<3.0.0,>=2.13.0->spacy==2.3.7) (1.26.15)\n",
      "Installing collected packages: srsly, catalogue, thinc, spacy\n",
      "  Attempting uninstall: srsly\n",
      "    Found existing installation: srsly 2.4.6\n",
      "    Uninstalling srsly-2.4.6:\n",
      "      Successfully uninstalled srsly-2.4.6\n",
      "  Attempting uninstall: catalogue\n",
      "    Found existing installation: catalogue 2.0.8\n",
      "    Uninstalling catalogue-2.0.8:\n",
      "      Successfully uninstalled catalogue-2.0.8\n",
      "  Attempting uninstall: thinc\n",
      "    Found existing installation: thinc 8.0.17\n",
      "    Uninstalling thinc-8.0.17:\n",
      "      Successfully uninstalled thinc-8.0.17\n",
      "  Attempting uninstall: spacy\n",
      "    Found existing installation: spacy 3.0.0\n",
      "    Uninstalling spacy-3.0.0:\n",
      "      Successfully uninstalled spacy-3.0.0\n",
      "\u001b[31mERROR: pip's dependency resolver does not currently take into account all the packages that are installed. This behaviour is the source of the following dependency conflicts.\n",
      "confection 0.0.4 requires srsly<3.0.0,>=2.4.0, but you have srsly 1.0.6 which is incompatible.\u001b[0m\u001b[31m\n",
      "\u001b[0mSuccessfully installed catalogue-1.0.2 spacy-2.3.7 srsly-1.0.6 thinc-7.4.6\n",
      "Note: you may need to restart the kernel to use updated packages.\n"
     ]
    }
   ],
   "source": [
    "pip install spacy==2.3.7"
   ]
  },
  {
   "cell_type": "code",
   "execution_count": 1,
   "id": "6b576962",
   "metadata": {},
   "outputs": [
    {
     "name": "stdout",
     "output_type": "stream",
     "text": [
      "\u001b[2K\u001b[38;5;2m✔ Loaded compatibility table\u001b[0m\n",
      "\u001b[1m\n",
      "====================== Installed models (spaCy v2.3.7) ======================\u001b[0m\n",
      "\u001b[38;5;4mℹ spaCy installation:\n",
      "/home/anjali-dell/anaconda3/lib/python3.9/site-packages/spacy\u001b[0m\n",
      "\n",
      "TYPE      NAME             MODEL            VERSION                            \n",
      "package   en-core-web-sm   en_core_web_sm   \u001b[38;5;2m2.3.1\u001b[0m   \u001b[38;5;2m✔\u001b[0m\n",
      "\n"
     ]
    }
   ],
   "source": [
    "!python -m spacy validate"
   ]
  },
  {
   "cell_type": "code",
   "execution_count": null,
   "id": "fbdc308a",
   "metadata": {},
   "outputs": [],
   "source": []
  }
 ],
 "metadata": {
  "kernelspec": {
   "display_name": "Python 3 (ipykernel)",
   "language": "python",
   "name": "python3"
  },
  "language_info": {
   "codemirror_mode": {
    "name": "ipython",
    "version": 3
   },
   "file_extension": ".py",
   "mimetype": "text/x-python",
   "name": "python",
   "nbconvert_exporter": "python",
   "pygments_lexer": "ipython3",
   "version": "3.9.13"
  }
 },
 "nbformat": 4,
 "nbformat_minor": 5
}
